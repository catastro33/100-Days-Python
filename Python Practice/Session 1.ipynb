{
  "cells": [
    {
      "cell_type": "markdown",
      "metadata": {
        "id": "A05OG15VqOPF"
      },
      "source": [
        "# Task : Session 1\n",
        "Solve these questions own your own and try to test yourself what you have learned in the session.\n",
        "\n",
        "Happy Learning!"
      ]
    },
    {
      "cell_type": "markdown",
      "metadata": {
        "id": "2doIXf8bqe9_"
      },
      "source": [
        "----------------------------------------------------------------------------------\n",
        "**Q1 :- Print the given strings as per stated format.**\n",
        "\n",
        "**Given strings**:\n",
        "```\n",
        "\"Data\" \"Science\" \"Mentorship\" \"Program\"\n",
        "\"By\" \"CampusX\"\n",
        "```\n",
        "**Output**:\n",
        "```\n",
        "Data-Science-Mentorship-Program-started-By-CampusX\n",
        "```\n",
        "\n",
        "Concept- [Seperator and End]"
      ]
    },
    {
      "cell_type": "code",
      "execution_count": 8,
      "metadata": {
        "id": "-em6d3KErDtp"
      },
      "outputs": [
        {
          "name": "stdout",
          "output_type": "stream",
          "text": [
            "Data-Science-Mentorship-Program-started-By-CampusX\n"
          ]
        }
      ],
      "source": [
        "#print('Data-Science-Mentorship-Program-started-By-CampuX')\n",
        "print('Data', 'Science', 'Mentorship', 'Program', 'started', 'By', 'CampusX',sep='-')"
      ]
    },
    {
      "cell_type": "markdown",
      "metadata": {
        "id": "1KUpN7ZTrC3_"
      },
      "source": [
        "**Q2:- Write a program that will convert celsius value to fahrenheit.**"
      ]
    },
    {
      "cell_type": "markdown",
      "metadata": {
        "id": "yxKYhYQiqWfj"
      },
      "source": [
        "Formula to convert Celcius to Fahrenheit\n",
        "- F = (9/5 × °C) + 32"
      ]
    },
    {
      "cell_type": "code",
      "execution_count": 14,
      "metadata": {},
      "outputs": [
        {
          "name": "stdout",
          "output_type": "stream",
          "text": [
            "152.60000000000002\n"
          ]
        }
      ],
      "source": [
        "Celsius = int(input('Enter your Celsius Temperature'))\n",
        "Fahrenheit = ((9/5) * Celsius + 32)\n",
        "\n",
        "print(Fahrenheit)"
      ]
    },
    {
      "cell_type": "markdown",
      "metadata": {
        "id": "RLrOBBJurLB2"
      },
      "source": [
        "**Q3:- Take 2 numbers as input from the user. Write a program to swap the numbers without using any special python syntax.**"
      ]
    },
    {
      "cell_type": "code",
      "execution_count": 3,
      "metadata": {
        "id": "yPn7if0TrJ4F"
      },
      "outputs": [
        {
          "name": "stdout",
          "output_type": "stream",
          "text": [
            "First number is: 8\n",
            "Second number is: 7\n"
          ]
        }
      ],
      "source": [
        "num1 = int(input('Type your first number'))\n",
        "num2 = int(input('Type your second number'))\n",
        "\n",
        "Temp = num1\n",
        "num1 = num2\n",
        "num2 = Temp\n",
        "\n",
        "print('First number is:', num1)\n",
        "print('Second number is:',num2)"
      ]
    },
    {
      "cell_type": "markdown",
      "metadata": {
        "id": "waLCP1bjr7ML"
      },
      "source": [
        "**Q4:- Write a program to find the euclidean distance between two coordinates.Take both the coordinates from the user as input.**"
      ]
    },
    {
      "cell_type": "code",
      "execution_count": null,
      "metadata": {
        "id": "Pl1Sv-xnrxnH"
      },
      "outputs": [],
      "source": [
        "# Write your code here"
      ]
    },
    {
      "cell_type": "markdown",
      "metadata": {
        "id": "VLrhg-FRsHjR"
      },
      "source": [
        "**Q5:- Write a program to find the simple interest when the value of principle,rate of interest and time period is provided by the user.**\n"
      ]
    },
    {
      "cell_type": "code",
      "execution_count": 6,
      "metadata": {
        "id": "s40DlReZsTmY"
      },
      "outputs": [
        {
          "name": "stdout",
          "output_type": "stream",
          "text": [
            "The Simple Interest is: 45000.0\n"
          ]
        }
      ],
      "source": [
        "principle = float(input('How much amount do you want to borrow?'))\n",
        "r_o_i = float(input('Enter the rate of interest'))\n",
        "time_period = float(input('Enter the time period'))\n",
        "\n",
        "simple_interest = (principle * r_o_i * time_period)/100\n",
        "print('The Simple Interest is:', simple_interest)"
      ]
    },
    {
      "cell_type": "markdown",
      "metadata": {
        "id": "gJ7C5kZYt4BP"
      },
      "source": [
        "**Q7:- Write a program to find the sum of squares of first n natural numbers where n will be provided by the user.**"
      ]
    },
    {
      "cell_type": "code",
      "execution_count": 13,
      "metadata": {
        "id": "_tHsmEHzt2nX"
      },
      "outputs": [
        {
          "name": "stdout",
          "output_type": "stream",
          "text": [
            "1\n",
            "4\n",
            "9\n",
            "16\n",
            "25\n",
            "55\n"
          ]
        }
      ],
      "source": [
        "n = int(input('Enter any number'))\n",
        "\n",
        "sum_of_squares = 0\n",
        "for i in range(1,n+1):\n",
        "    squares = i*i \n",
        "    sum_of_squares += squares \n",
        "    print(squares)\n",
        "\n",
        "print(sum_of_squares)"
      ]
    },
    {
      "cell_type": "markdown",
      "metadata": {
        "id": "FHrMM7g-yG1h"
      },
      "source": [
        "**Q8:- Given the first 2 terms of an Arithmetic Series. Find the Nth term of the series. Assume all inputs are provided by the user.**"
      ]
    },
    {
      "cell_type": "code",
      "execution_count": null,
      "metadata": {
        "id": "go4_kmZmyVSx"
      },
      "outputs": [],
      "source": []
    },
    {
      "cell_type": "markdown",
      "metadata": {
        "id": "QgyRX_es1oum"
      },
      "source": [
        "**Q9:- Given 2 fractions, find the sum of those 2 fractions. Take the numerator and denominator values of the fractions from the user.**"
      ]
    },
    {
      "cell_type": "code",
      "execution_count": null,
      "metadata": {
        "id": "X05xqFS1yW16"
      },
      "outputs": [],
      "source": [
        "# Write your code here"
      ]
    },
    {
      "cell_type": "markdown",
      "metadata": {
        "id": "eaql38ln13u7"
      },
      "source": [
        "**Q10:- Given the height, width and breadth of a milk tank, you have to find out how many glasses of milk can be obtained? Assume all the inputs are provided by the user.**\n",
        "\n",
        "\n",
        "\n",
        "Input:<br>\n",
        "Dimensions of the milk tank<br>\n",
        "H = 20cm, L = 20cm, B = 20cm\n",
        "<br><br>\n",
        "Dimensions of the glass<br>\n",
        "h = 3cm, r = 1cm"
      ]
    },
    {
      "cell_type": "code",
      "execution_count": 10,
      "metadata": {
        "id": "FePZqno74eWv"
      },
      "outputs": [
        {
          "name": "stdout",
          "output_type": "stream",
          "text": [
            "The volume of the Milk tank is: 8000 cm^3\n",
            "The volume of glass is: 9.42477796076938 cm^3\n",
            "848.8263631567752 glasses of milk can be obtained from the tank\n"
          ]
        }
      ],
      "source": [
        "# First we will calculate the volume of the container/tank\n",
        "H = 20\n",
        "L = 20\n",
        "B = 20\n",
        "\n",
        "vol_of_tank = H * L * B\n",
        "print('The volume of the Milk tank is:', vol_of_tank, 'cm^3')\n",
        "\n",
        "# Volume of glass\n",
        "import math\n",
        "h = 3\n",
        "r = 1\n",
        "glass_vol = math.pi * (r**2) * h\n",
        "print('The volume of glass is:', glass_vol, 'cm^3')\n",
        "\n",
        "num_of_glasses = vol_of_tank / glass_vol\n",
        "print(num_of_glasses, 'glasses of milk can be obtained from the tank')"
      ]
    }
  ],
  "metadata": {
    "colab": {
      "provenance": []
    },
    "kernelspec": {
      "display_name": "Python 3",
      "name": "python3"
    },
    "language_info": {
      "codemirror_mode": {
        "name": "ipython",
        "version": 3
      },
      "file_extension": ".py",
      "mimetype": "text/x-python",
      "name": "python",
      "nbconvert_exporter": "python",
      "pygments_lexer": "ipython3",
      "version": "3.10.11"
    }
  },
  "nbformat": 4,
  "nbformat_minor": 0
}
