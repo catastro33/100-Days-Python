{
 "cells": [
  {
   "cell_type": "code",
   "execution_count": 6,
   "metadata": {},
   "outputs": [
    {
     "name": "stdout",
     "output_type": "stream",
     "text": [
      "21\n"
     ]
    }
   ],
   "source": [
    "# Write a program to find the sum of 3 digit number entered by the user\n",
    "\n",
    "number = int(input('Enter a 3 digit number\\n'))\n",
    "\n",
    "a = number % 10 \n",
    "number = number // 10\n",
    "\n",
    "b = number % 10\n",
    "number = number // 10\n",
    "\n",
    "c = number % 10\n",
    "number = number // 10\n",
    "print(a + b + c)"
   ]
  },
  {
   "cell_type": "markdown",
   "metadata": {},
   "source": [
    "## if-else"
   ]
  },
  {
   "cell_type": "code",
   "execution_count": null,
   "metadata": {},
   "outputs": [],
   "source": [
    "# Login Program and Identification\n",
    "# Email - abdulmuqtadir33@gmail.com\n",
    "# Password - abdulmuqtadir@\n",
    "\n",
    "Email = input('Enter Your Email ID')\n",
    "Password = input('Enter Your Password')\n",
    "\n",
    "if Email == 'abdulmuqtadir33@gmail.com' and Password == 'abdulmuqtadir@':\n",
    "    print('Welcome')\n",
    "else:\n",
    "    print('Badam Khaa')"
   ]
  },
  {
   "cell_type": "markdown",
   "metadata": {},
   "source": [
    "## elif"
   ]
  },
  {
   "cell_type": "code",
   "execution_count": 13,
   "metadata": {},
   "outputs": [
    {
     "name": "stdout",
     "output_type": "stream",
     "text": [
      "Your Email is correct, retype your Password\n"
     ]
    }
   ],
   "source": [
    "Email = input('Enter Your Email ID')\n",
    "Password = input('Enter Your Password')\n",
    "\n",
    "if Email == 'huzaif33@gmail.com' and Password == 'huzaif@':\n",
    "    print('Welcome')\n",
    "elif Email == 'huzaif33@gmail.com' and Password != 'huzaif@':\n",
    "    print('Your Email is correct, Re-enter your Password')\n",
    "    Password = input('Enter your password again')\n",
    "    if Password == 'huzaif@':\n",
    "        print('Welcome')\n",
    "    else:\n",
    "        print('Tumse na ho payga')\n",
    "elif Email != 'huzaif33@gmail.com':\n",
    "    print('Your Email is incorrect')\n",
    "else:\n",
    "    print('Your Login Credentials are Incorrect')"
   ]
  },
  {
   "cell_type": "code",
   "execution_count": 16,
   "metadata": {},
   "outputs": [
    {
     "name": "stdout",
     "output_type": "stream",
     "text": [
      "45\n",
      "56\n",
      "67\n",
      "The smallest is 45\n"
     ]
    }
   ],
   "source": [
    "# Find the smallest number\n",
    "\n",
    "a = int(input('Input 1'))\n",
    "print(a)\n",
    "\n",
    "b = int(input('Input 2'))\n",
    "print(b)\n",
    "\n",
    "c = int(input('Input 3'))\n",
    "print(c)\n",
    "if a<b and a<c:\n",
    "    print('The smallest is', a)\n",
    "elif b<c:\n",
    "    print('The smallest is', b)\n",
    "else:\n",
    "    print('The smallest is', c)"
   ]
  },
  {
   "cell_type": "markdown",
   "metadata": {},
   "source": [
    "----------------------------------------------------------------------------\n",
    "### Menu Driver Calculator"
   ]
  },
  {
   "cell_type": "code",
   "execution_count": null,
   "metadata": {},
   "outputs": [],
   "source": [
    "fnum = int(input('Enter 1st Number'))\n",
    "snum = int(input('Enter 2nd Number'))\n",
    "\n",
    "operation = input('Which Operation')\n",
    "\n",
    "if operation == '+':\n",
    "    print('The Addition of 1st input and 2nd inuput is', fnum + snum)\n",
    "elif operation == '-':\n",
    "    print('The Subtraction of 1st input and 2nd inuput is', fnum - snum)\n",
    "elif operation == '*':\n",
    "    print('The Multiplication of 1st input and 2nd inuput is', fnum * snum)\n",
    "else:\n",
    "    print('The Division of 1st input and 2nd inuput is', fnum / snum)"
   ]
  },
  {
   "cell_type": "markdown",
   "metadata": {},
   "source": [
    "-------------------------------------------------------------------------------\n",
    "## Modules\n",
    "- math\n",
    "- keyword\n",
    "- random\n",
    "- datetime"
   ]
  },
  {
   "cell_type": "markdown",
   "metadata": {},
   "source": [
    "### Math module"
   ]
  },
  {
   "cell_type": "code",
   "execution_count": 6,
   "metadata": {},
   "outputs": [
    {
     "data": {
      "text/plain": [
       "4.0"
      ]
     },
     "execution_count": 6,
     "metadata": {},
     "output_type": "execute_result"
    }
   ],
   "source": [
    "import math\n",
    "\n",
    "math.sqrt(16)"
   ]
  },
  {
   "cell_type": "code",
   "execution_count": 10,
   "metadata": {},
   "outputs": [
    {
     "data": {
      "text/plain": [
       "1.1752011936438014"
      ]
     },
     "execution_count": 10,
     "metadata": {},
     "output_type": "execute_result"
    }
   ],
   "source": [
    "math.sinh(1)"
   ]
  },
  {
   "cell_type": "markdown",
   "metadata": {},
   "source": [
    "### Keyword\n",
    "Keywords are the reserved words by Compiler/Interpreter"
   ]
  },
  {
   "cell_type": "code",
   "execution_count": 12,
   "metadata": {},
   "outputs": [
    {
     "name": "stdout",
     "output_type": "stream",
     "text": [
      "['False', 'None', 'True', 'and', 'as', 'assert', 'async', 'await', 'break', 'class', 'continue', 'def', 'del', 'elif', 'else', 'except', 'finally', 'for', 'from', 'global', 'if', 'import', 'in', 'is', 'lambda', 'nonlocal', 'not', 'or', 'pass', 'raise', 'return', 'try', 'while', 'with', 'yield']\n"
     ]
    }
   ],
   "source": [
    "import keyword\n",
    "\n",
    "print(keyword.kwlist)"
   ]
  },
  {
   "cell_type": "markdown",
   "metadata": {},
   "source": [
    "### Random\n",
    "This module generate random numbers"
   ]
  },
  {
   "cell_type": "code",
   "execution_count": 13,
   "metadata": {},
   "outputs": [
    {
     "name": "stdout",
     "output_type": "stream",
     "text": [
      "21\n"
     ]
    }
   ],
   "source": [
    "import random\n",
    "print(random.randint(1, 50))"
   ]
  },
  {
   "cell_type": "markdown",
   "metadata": {},
   "source": [
    "## Datetime\n",
    "This module import date time"
   ]
  },
  {
   "cell_type": "code",
   "execution_count": 14,
   "metadata": {},
   "outputs": [
    {
     "name": "stdout",
     "output_type": "stream",
     "text": [
      "2023-12-24 21:43:57.908991\n"
     ]
    }
   ],
   "source": [
    "import datetime\n",
    "print(datetime.datetime.now())"
   ]
  },
  {
   "cell_type": "code",
   "execution_count": 15,
   "metadata": {},
   "outputs": [
    {
     "name": "stdout",
     "output_type": "stream",
     "text": [
      "\n",
      "Please wait a moment while I gather a list of all available modules...\n",
      "\n"
     ]
    },
    {
     "name": "stderr",
     "output_type": "stream",
     "text": [
      "c:\\Python310\\lib\\pkgutil.py:107: VisibleDeprecationWarning: zmq.eventloop.minitornado is deprecated in pyzmq 14.0 and will be removed.\n",
      "    Install tornado itself to use zmq with the tornado IOLoop.\n",
      "    \n",
      "  yield from walk_packages(path, info.name+'.', onerror)\n",
      "c:\\Python310\\lib\\pkgutil.py:92: UserWarning: The numpy.array_api submodule is still experimental. See NEP 47.\n",
      "  __import__(info.name)\n",
      "c:\\Python310\\lib\\pkgutil.py:92: DeprecationWarning: \n",
      "\n",
      "  `numpy.distutils` is deprecated since NumPy 1.23.0, as a result\n",
      "  of the deprecation of `distutils` itself. It will be removed for\n",
      "  Python >= 3.12. For older Python versions it will remain present.\n",
      "  It is recommended to use `setuptools < 60.0` for those Python versions.\n",
      "  For more details, see:\n",
      "    https://numpy.org/devdocs/reference/distutils_status_migration.html \n",
      "\n",
      "\n",
      "  __import__(info.name)\n",
      "c:\\Python310\\lib\\site-packages\\_distutils_hack\\__init__.py:33: UserWarning: Setuptools is replacing distutils.\n",
      "  warnings.warn(\"Setuptools is replacing distutils.\")\n",
      "c:\\Python310\\lib\\pkgutil.py:92: DeprecationWarning: pkg_resources is deprecated as an API. See https://setuptools.pypa.io/en/latest/pkg_resources.html\n",
      "  __import__(info.name)\n",
      "c:\\Python310\\lib\\site-packages\\setuptools\\command\\build_ext.py:8: DeprecationWarning:\n",
      "\n",
      "The distutils package is deprecated and slated for removal in Python 3.12. Use setuptools or check PEP 632 for potential alternatives\n",
      "\n",
      "c:\\Python310\\lib\\distutils\\command\\build_ext.py:13: DeprecationWarning:\n",
      "\n",
      "The distutils.sysconfig module is deprecated, use sysconfig instead\n",
      "\n",
      "c:\\Python310\\lib\\site-packages\\tensorboard\\_vendor\\html5lib\\filters\\sanitizer.py:29: DeprecationWarning:\n",
      "\n",
      "html5lib's sanitizer is deprecated; see https://github.com/html5lib/html5lib-python/issues/443 and please let us know if Bleach is unsuitable for your needs\n",
      "\n",
      "c:\\Python310\\lib\\site-packages\\torch\\distributed\\_shard\\checkpoint\\__init__.py:8: DeprecationWarning:\n",
      "\n",
      "torch.distributed._shard.checkpoint will be deprecated, use torch.distributed.checkpoint instead\n",
      "\n",
      "c:\\Python310\\lib\\site-packages\\torch\\distributed\\_sharded_tensor\\__init__.py:8: DeprecationWarning:\n",
      "\n",
      "torch.distributed._sharded_tensor will be deprecated, use torch.distributed._shard.sharded_tensor instead\n",
      "\n",
      "c:\\Python310\\lib\\site-packages\\torch\\distributed\\_sharding_spec\\__init__.py:8: DeprecationWarning:\n",
      "\n",
      "torch.distributed._sharding_spec will be deprecated, use torch.distributed._shard.sharding_spec instead\n",
      "\n",
      "[2023-12-24 21:47:40,352] torch.distributed.elastic.multiprocessing.redirects: [WARNING] NOTE: Redirects are currently not supported in Windows or MacOs.\n"
     ]
    },
    {
     "name": "stdout",
     "output_type": "stream",
     "text": [
      "IPython             charset_normalizer  mmap                struct\n",
      "PIL                 chunk               mmapfile            subprocess\n",
      "__future__          clang               mmsystem            sunau\n",
      "_abc                clear               modulefinder        sympy\n",
      "_aix_support        cmath               mpl_toolkits        symtable\n",
      "_argon2_cffi_bindings cmd                 mpmath              sys\n",
      "_ast                code                msilib              sysconfig\n",
      "_asyncio            codecs              msvcrt              tabnanny\n",
      "_bisect             codeop              multiprocessing     tarfile\n",
      "_blake2             collections         nbclient            telnetlib\n",
      "_bootsubprocess     colorama            nbconvert           tempfile\n",
      "_bz2                colorsys            nbformat            tenacity\n",
      "_cffi_backend       comm                nest_asyncio        tensorboard\n",
      "_codecs             commctrl            netbios             tensorboard_data_server\n",
      "_codecs_cn          compileall          netrc               tensorflow\n",
      "_codecs_hk          concurrent          networkx            tensorflow_estimator\n",
      "_codecs_iso2022     configparser        nntplib             tensorflow_io_gcs_filesystem\n",
      "_codecs_jp          contextlib          notebook            termcolor\n",
      "_codecs_kr          contextvars         notebook_shim       terminado\n",
      "_codecs_tw          contourpy           nt                  test\n",
      "_collections        copy                ntpath              textwrap\n",
      "_collections_abc    copyreg             ntsecuritycon       this\n",
      "_compat_pickle      crypt               nturl2path          threading\n",
      "_compression        csv                 numbers             threadpoolctl\n",
      "_contextvars        ctypes              numpy               time\n",
      "_csv                curses              oauthlib            timeit\n",
      "_ctypes             cycler              odbc                timer\n",
      "_ctypes_test        dataclasses         opcode              tinycss2\n",
      "_datetime           datetime            operator            tkinter\n",
      "_decimal            dateutil            opt_einsum          token\n",
      "_distutils_hack     dbi                 optparse            tokenize\n",
      "_elementtree        dbm                 os                  tomli\n",
      "_functools          dde                 overrides           torch\n",
      "_hashlib            debugpy             packaging           torchaudio\n",
      "_heapq              decimal             pandas              torchgen\n",
      "_imp                decorator           pandocfilters       torchvision\n",
      "_io                 defusedxml          parso               tornado\n",
      "_json               difflib             pasta               trace\n",
      "_locale             dis                 pathlib             traceback\n",
      "_lsprof             distutils           pdb                 tracemalloc\n",
      "_lzma               doctest             perfmon             traitlets\n",
      "_markupbase         email               pickle              tty\n",
      "_md5                encodings           pickleshare         turtle\n",
      "_msi                ensurepip           pickletools         turtledemo\n",
      "_multibytecodec     entrypoints         pip                 types\n",
      "_multiprocessing    enum                pipes               typing\n",
      "_opcode             errno               pkg_resources       typing_extensions\n",
      "_operator           exceptiongroup      pkgutil             tzdata\n",
      "_osx_support        executing           platform            unicodedata\n",
      "_overlapped         fastjsonschema      platformdirs        unittest\n",
      "_pickle             faulthandler        plistlib            uri_template\n",
      "_plotly_future_     filecmp             plotly              urllib\n",
      "_plotly_utils       fileinput           poplib              urllib3\n",
      "_py_abc             filelock            posixpath           uu\n",
      "_pydecimal          flatbuffers         pprint              uuid\n",
      "_pyio               fnmatch             profile             venv\n",
      "_queue              fontTools           prometheus_client   warnings\n",
      "_random             fqdn                prompt_toolkit      wave\n",
      "_sha1               fractions           pstats              wcwidth\n",
      "_sha256             fsspec              psutil              weakref\n",
      "_sha3               ftplib              pty                 webbrowser\n",
      "_sha512             functools           pure_eval           webcolors\n",
      "_signal             functorch           py_compile          webencodings\n",
      "_sitebuiltins       gast                pyasn1              websocket\n",
      "_socket             gc                  pyasn1_modules      werkzeug\n",
      "_sqlite3            genericpath         pyclbr              wheel\n",
      "_sre                getopt              pycparser           win2kras\n",
      "_ssl                getpass             pydoc               win32api\n",
      "_stat               gettext             pydoc_data          win32clipboard\n",
      "_statistics         glob                pyexpat             win32com\n",
      "_string             google_auth_oauthlib pyforest            win32con\n",
      "_strptime           graphlib            pygments            win32console\n",
      "_struct             grpc                pylab               win32cred\n",
      "_symtable           gzip                pyparsing           win32crypt\n",
      "_testbuffer         h5py                pythoncom           win32cryptcon\n",
      "_testcapi           hashlib             pythonjsonlogger    win32event\n",
      "_testconsole        heapq               pytz                win32evtlog\n",
      "_testimportmultiple hmac                pywin               win32evtlogutil\n",
      "_testinternalcapi   html                pywin32_bootstrap   win32file\n",
      "_testmultiphase     http                pywin32_testutil    win32gui\n",
      "_thread             idlelib             pywintypes          win32gui_struct\n",
      "_threading_local    idna                queue               win32help\n",
      "_tkinter            imaplib             quopri              win32inet\n",
      "_tracemalloc        imghdr              random              win32inetcon\n",
      "_uuid               imp                 rasutil             win32job\n",
      "_warnings           importlib           re                  win32lz\n",
      "_weakref            inspect             referencing         win32net\n",
      "_weakrefset         io                  regcheck            win32netcon\n",
      "_win32sysloader     ipaddress           regutil             win32pdh\n",
      "_winapi             ipykernel           reprlib             win32pdhquery\n",
      "_winxptheme         ipykernel_launcher  requests            win32pdhutil\n",
      "_xxsubinterpreters  isapi               requests_oauthlib   win32pipe\n",
      "_yaml               isoduration         rfc3339_validator   win32print\n",
      "_zoneinfo           isympy              rfc3986_validator   win32process\n",
      "abc                 itertools           rlcompleter         win32profile\n",
      "absl                jedi                rpds                win32ras\n",
      "adodbapi            jinja2              rsa                 win32rcparser\n",
      "afxres              joblib              runpy               win32security\n",
      "aifc                json                sched               win32service\n",
      "antigravity         json5               scipy               win32serviceutil\n",
      "anyio               jsonpointer         seaborn             win32timezone\n",
      "argon2              jsonschema          secrets             win32trace\n",
      "argparse            jsonschema_specifications select              win32traceutil\n",
      "array               jupyter             selectors           win32transaction\n",
      "arrow               jupyter_client      send2trash          win32ts\n",
      "ast                 jupyter_core        servicemanager      win32ui\n",
      "asttokens           jupyter_events      setuptools          win32uiole\n",
      "astunparse          jupyter_lsp         shelve              win32verstamp\n",
      "async_lru           jupyter_server      shlex               win32wnet\n",
      "asynchat            jupyter_server_terminals shutil              winerror\n",
      "asyncio             jupyterlab          signal              winioctlcon\n",
      "asyncore            jupyterlab_plotly   site                winnt\n",
      "atexit              jupyterlab_pygments six                 winperf\n",
      "attr                jupyterlab_server   sklearn             winpty\n",
      "attrs               keras               smtpd               winreg\n",
      "audioop             keyword             smtplib             winsound\n",
      "babel               kiwisolver          sndhdr              winxpgui\n",
      "backcall            lib2to3             sniffio             winxptheme\n",
      "base64              linecache           socket              wrapt\n",
      "bdb                 locale              socketserver        wsgiref\n",
      "binascii            logging             soupsieve           xdrlib\n",
      "binhex              lzma                sqlite3             xml\n",
      "bisect              mailbox             sre_compile         xmlrpc\n",
      "bleach              mailcap             sre_constants       xxsubtype\n",
      "bs4                 markdown            sre_parse           yaml\n",
      "builtins            markupsafe          ssl                 zipapp\n",
      "bz2                 marshal             sspi                zipfile\n",
      "cProfile            math                sspicon             zipimport\n",
      "cachetools          matplotlib          stack_data          zlib\n",
      "calendar            matplotlib_inline   start_pythonwin     zmq\n",
      "certifi             mimetypes           stat                zoneinfo\n",
      "cffi                mistune             statistics          ~atplotlib\n",
      "cgi                 ml_dtypes           string              ~mq\n",
      "cgitb               mlxtend             stringprep          ~pl_toolkits\n",
      "\n",
      "Enter any module name to get more help.  Or, type \"modules spam\" to search\n",
      "for modules whose name or summary contain the string \"spam\".\n",
      "\n"
     ]
    }
   ],
   "source": [
    "help('modules')"
   ]
  },
  {
   "cell_type": "markdown",
   "metadata": {},
   "source": [
    "## Loops"
   ]
  },
  {
   "cell_type": "markdown",
   "metadata": {},
   "source": [
    "### While Loop"
   ]
  },
  {
   "cell_type": "code",
   "execution_count": 16,
   "metadata": {},
   "outputs": [
    {
     "name": "stdout",
     "output_type": "stream",
     "text": [
      "12 * 1 = 12\n",
      "12 * 2 = 24\n",
      "12 * 3 = 36\n",
      "12 * 4 = 48\n",
      "12 * 5 = 60\n",
      "12 * 6 = 72\n",
      "12 * 7 = 84\n",
      "12 * 8 = 96\n",
      "12 * 9 = 108\n",
      "12 * 10 = 120\n"
     ]
    }
   ],
   "source": [
    "numb = int(input('Enter a number'))\n",
    "\n",
    "i = 1\n",
    "while i<11:\n",
    "    print(numb, '*' , i, '=', numb * i) \n",
    "    i += 1"
   ]
  },
  {
   "cell_type": "markdown",
   "metadata": {},
   "source": [
    "### Guess Game"
   ]
  },
  {
   "cell_type": "code",
   "execution_count": null,
   "metadata": {},
   "outputs": [],
   "source": [
    "import random\n",
    "\n",
    "Jackpot_number = random.randint(1,100)\n",
    "Guess = int(input('Guess a number between 1 & 100'))\n",
    "\n",
    "attempts = 1\n",
    "\n",
    "while Guess != Jackpot_number:\n",
    "\n",
    "    if Guess < Jackpot_number:\n",
    "        print('Guess Higher')\n",
    "    else:\n",
    "        print('Guess Lower')\n",
    "\n",
    "    Guess = int(input('Guess Again'))\n",
    "    attempts += 1\n",
    "\n",
    "else:\n",
    "    print('You have hit a JackPot')\n",
    "    print('The number of attempt to guess the correct number is:', attempts)\n"
   ]
  },
  {
   "cell_type": "code",
   "execution_count": 20,
   "metadata": {},
   "outputs": [
    {
     "name": "stdout",
     "output_type": "stream",
     "text": [
      "10 10000\n",
      "9 9000.0\n",
      "8 8100.0\n",
      "7 7290.0\n",
      "6 6561.0\n",
      "5 5904.9\n",
      "4 5314.41\n",
      "3 4782.969\n",
      "2 4304.6721\n",
      "1 3874.20489\n"
     ]
    }
   ],
   "source": [
    "curr_popu = 10000\n",
    "\n",
    "for i in range(10, 0, -1):\n",
    "    print(i, curr_popu)\n",
    "    curr_popu = curr_popu - 0.1*curr_popu"
   ]
  },
  {
   "cell_type": "code",
   "execution_count": null,
   "metadata": {},
   "outputs": [],
   "source": []
  },
  {
   "cell_type": "code",
   "execution_count": null,
   "metadata": {},
   "outputs": [],
   "source": []
  },
  {
   "cell_type": "code",
   "execution_count": null,
   "metadata": {},
   "outputs": [],
   "source": []
  },
  {
   "cell_type": "code",
   "execution_count": null,
   "metadata": {},
   "outputs": [],
   "source": []
  },
  {
   "cell_type": "code",
   "execution_count": null,
   "metadata": {},
   "outputs": [],
   "source": []
  },
  {
   "cell_type": "code",
   "execution_count": null,
   "metadata": {},
   "outputs": [],
   "source": []
  },
  {
   "cell_type": "code",
   "execution_count": null,
   "metadata": {},
   "outputs": [],
   "source": []
  }
 ],
 "metadata": {
  "kernelspec": {
   "display_name": "Python 3",
   "language": "python",
   "name": "python3"
  },
  "language_info": {
   "codemirror_mode": {
    "name": "ipython",
    "version": 3
   },
   "file_extension": ".py",
   "mimetype": "text/x-python",
   "name": "python",
   "nbconvert_exporter": "python",
   "pygments_lexer": "ipython3",
   "version": "3.10.11"
  }
 },
 "nbformat": 4,
 "nbformat_minor": 2
}
