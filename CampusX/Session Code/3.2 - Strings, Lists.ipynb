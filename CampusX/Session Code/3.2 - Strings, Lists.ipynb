{
 "cells": [
  {
   "cell_type": "markdown",
   "metadata": {},
   "source": [
    "**Find the length of a given string without using len function**"
   ]
  },
  {
   "cell_type": "code",
   "execution_count": 10,
   "metadata": {},
   "outputs": [
    {
     "name": "stdout",
     "output_type": "stream",
     "text": [
      "Length of the string job is 3\n"
     ]
    }
   ],
   "source": [
    "string = input('Enter any sentence or word\\n')\n",
    "\n",
    "counter = 0\n",
    "for i in string:\n",
    "    counter = counter + 1\n",
    "print(f'Length of the string {string} is',counter)"
   ]
  },
  {
   "cell_type": "markdown",
   "metadata": {},
   "source": [
    "**Extract username from email**"
   ]
  },
  {
   "cell_type": "code",
   "execution_count": 22,
   "metadata": {},
   "outputs": [
    {
     "name": "stdout",
     "output_type": "stream",
     "text": [
      "Your Username is: abdulmuqtadir520\n"
     ]
    }
   ],
   "source": [
    "Email = input('Enter your email\\n')\n",
    "\n",
    "pos = Email.index('@')\n",
    "print('Your Username is:',Email[0:pos])"
   ]
  },
  {
   "cell_type": "markdown",
   "metadata": {},
   "source": [
    "**Count the frequency of a particular character in a provided string**"
   ]
  },
  {
   "cell_type": "code",
   "execution_count": 29,
   "metadata": {},
   "outputs": [
    {
     "name": "stdout",
     "output_type": "stream",
     "text": [
      "Hako na ma tata\n",
      "The frequency of t in the above sentence is: 2\n"
     ]
    }
   ],
   "source": [
    "sent = input('Write your sentence\\n')\n",
    "term = input('What term would you like to search\\n')\n",
    "\n",
    "counter = 0\n",
    "for i in sent:\n",
    "    if i == term:\n",
    "        counter += 1\n",
    "\n",
    "print(sent)\n",
    "print(f'The frequency of {term} in the above sentence is:', counter)"
   ]
  },
  {
   "cell_type": "code",
   "execution_count": null,
   "metadata": {},
   "outputs": [],
   "source": []
  },
  {
   "cell_type": "code",
   "execution_count": null,
   "metadata": {},
   "outputs": [],
   "source": []
  },
  {
   "cell_type": "code",
   "execution_count": null,
   "metadata": {},
   "outputs": [],
   "source": []
  }
 ],
 "metadata": {
  "kernelspec": {
   "display_name": "Python 3",
   "language": "python",
   "name": "python3"
  },
  "language_info": {
   "codemirror_mode": {
    "name": "ipython",
    "version": 3
   },
   "file_extension": ".py",
   "mimetype": "text/x-python",
   "name": "python",
   "nbconvert_exporter": "python",
   "pygments_lexer": "ipython3",
   "version": "3.10.11"
  }
 },
 "nbformat": 4,
 "nbformat_minor": 2
}
