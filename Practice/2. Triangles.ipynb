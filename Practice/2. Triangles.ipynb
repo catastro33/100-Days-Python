{
 "cells": [
  {
   "cell_type": "markdown",
   "metadata": {},
   "source": [
    "## **2. Triangles**"
   ]
  },
  {
   "cell_type": "markdown",
   "metadata": {},
   "source": [
    "**1) Develop a program that checks if three given line segments can form a triangle, and if so, classify it as equilateral, isosceles, or scalene.**"
   ]
  },
  {
   "cell_type": "code",
   "execution_count": null,
   "metadata": {},
   "outputs": [],
   "source": [
    "fa = int(input('Enter First Angle\\n'))\n",
    "print(f'The first angle is:', fa)\n",
    "\n",
    "sa = int(input('Enter Second Angle\\n'))\n",
    "print(f'The Second Angle is:', sa)\n",
    "\n",
    "ta = int(input('Enter Third Angle\\n'))\n",
    "print(f'The Third Angle is:', ta)\n",
    "\n",
    "SOTA = fa+sa+ta\n",
    "\n",
    "if SOTA == 180:\n",
    "    print('This is a triangle')\n",
    "else:\n",
    "    print('This is not a triangle')"
   ]
  },
  {
   "cell_type": "markdown",
   "metadata": {},
   "source": [
    "**2) Implement a program that checks whether three angles provided by the user form a valid triangle, and if so, classify it as acute, obtuse, or right-angled.**"
   ]
  },
  {
   "cell_type": "code",
   "execution_count": null,
   "metadata": {},
   "outputs": [],
   "source": [
    "fa = int(input('Enter First Angle\\n'))\n",
    "print(f'The First angle is:', fa)\n",
    "\n",
    "sa = int(input('Enter Second Angle\\n'))\n",
    "print(f'The Second Angle is:', sa)\n",
    "\n",
    "ta = int(input('Enter Third Angle\\n'))\n",
    "print(f'The Third Angle is:', ta)\n",
    "\n",
    "SOTA = fa+sa+ta\n",
    "while True:\n",
    "    if SOTA == 180:\n",
    "        print('This is a triangle')\n",
    "    else:\n",
    "        print('This is not a triangle')\n",
    "        break\n",
    "        \n",
    "    if SOTA == 180 and fa == 90 or sa == 90 or ta == 90:\n",
    "        print('This is a Right Angle Triangle')\n",
    "    elif SOTA == 180 and sa > 90:\n",
    "        print('This is an Obtuse angle Triangle')\n",
    "    elif SOTA == 180 and sa < 90:\n",
    "        print('This is an Acute Angle Triangle')"
   ]
  },
  {
   "cell_type": "markdown",
   "metadata": {},
   "source": [
    "**3) Design a program that calculates the area of a triangle given its three sides using Heron's formula.**"
   ]
  },
  {
   "cell_type": "code",
   "execution_count": null,
   "metadata": {},
   "outputs": [],
   "source": []
  }
 ],
 "metadata": {
  "kernelspec": {
   "display_name": "Python 3",
   "language": "python",
   "name": "python3"
  },
  "language_info": {
   "name": "python",
   "version": "3.10.11"
  }
 },
 "nbformat": 4,
 "nbformat_minor": 2
}
