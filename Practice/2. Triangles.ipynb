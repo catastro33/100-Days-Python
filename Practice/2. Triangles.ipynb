{
 "cells": [
  {
   "cell_type": "markdown",
   "metadata": {},
   "source": [
    "## **2. Triangles**"
   ]
  },
  {
   "cell_type": "markdown",
   "metadata": {},
   "source": [
    "**1) Develop a program that checks if three given line segments can form a triangle, and if so, classify it as equilateral, isosceles, or scalene.**"
   ]
  },
  {
   "cell_type": "code",
   "execution_count": null,
   "metadata": {},
   "outputs": [],
   "source": [
    "fa = int(input('Enter First Angle\\n'))\n",
    "print(f'The first angle is:', fa)\n",
    "\n",
    "sa = int(input('Enter Second Angle\\n'))\n",
    "print(f'The Second Angle is:', sa)\n",
    "\n",
    "ta = int(input('Enter Third Angle\\n'))\n",
    "print(f'The Third Angle is:', ta)\n",
    "\n",
    "SOTA = fa+sa+ta\n",
    "\n",
    "if SOTA == 180:\n",
    "    print('This is a triangle')\n",
    "else:\n",
    "    print('This is not a triangle')"
   ]
  },
  {
   "cell_type": "markdown",
   "metadata": {},
   "source": [
    "**2) Implement a program that checks whether three angles provided by the user form a valid triangle, and if so, classify it as acute, obtuse, or right-angled.**"
   ]
  },
  {
   "cell_type": "code",
   "execution_count": 13,
   "metadata": {},
   "outputs": [
    {
     "name": "stdout",
     "output_type": "stream",
     "text": [
      "The First angle is: 90\n",
      "The Second Angle is: 80\n",
      "The Third Angle is: 10\n",
      "This is a Right Angle Triangle.\n"
     ]
    }
   ],
   "source": [
    "fa = int(input('Enter First Angle\\n'))\n",
    "print(f'The First angle is:', fa)\n",
    "\n",
    "sa = int(input('Enter Second Angle\\n'))\n",
    "print(f'The Second Angle is:', sa)\n",
    "\n",
    "ta = int(input('Enter Third Angle\\n'))\n",
    "print(f'The Third Angle is:', ta)\n",
    "\n",
    "SOTA = fa + sa + ta\n",
    "\n",
    "# Check if triangle is valid (sum of angles must be 180)\n",
    "if SOTA != 180:\n",
    "  print('This is not a triangle (Sum of angles must be 180 degrees).')\n",
    "else:\n",
    "  # Classify triangle based on angles\n",
    "  if fa == 90 or sa == 90 or ta == 90:\n",
    "    print('This is a Right Angle Triangle.')\n",
    "  elif fa > 90 or sa > 90 or ta > 90:\n",
    "    print('This is an Obtuse Angle Triangle.')\n",
    "  else:\n",
    "    print('This is an Acute Angle Triangle.')"
   ]
  },
  {
   "cell_type": "markdown",
   "metadata": {},
   "source": [
    "**3) Design a program that calculates the area of a triangle given its three sides using Heron's formula.**\n",
    "\n",
    "- sqrt(s(s - a)(s - b)(s - c))\n",
    "- s = (a + b + c)/2"
   ]
  },
  {
   "cell_type": "code",
   "execution_count": 11,
   "metadata": {},
   "outputs": [
    {
     "name": "stdout",
     "output_type": "stream",
     "text": [
      "The area of triangle by Heron's formuala is: 78.92678569408487 square cm\n"
     ]
    }
   ],
   "source": [
    "import math\n",
    "a = float(input('Enter the first side of the triangle in cm\\n'))\n",
    "b = float(input('Enter the second side of the triangle in cm\\n'))\n",
    "c = float(input('Enter the third side of the triangle in cm\\n'))\n",
    "s = (a + b + c)/2\n",
    "a_o_t = float(math.sqrt(s * (s - a)*(s - b)*(s - c)))\n",
    "\n",
    "print(f\"The area of triangle by Heron's formuala is:\",a_o_t, 'square cm')"
   ]
  }
 ],
 "metadata": {
  "kernelspec": {
   "display_name": "Python 3",
   "language": "python",
   "name": "python3"
  },
  "language_info": {
   "codemirror_mode": {
    "name": "ipython",
    "version": 3
   },
   "file_extension": ".py",
   "mimetype": "text/x-python",
   "name": "python",
   "nbconvert_exporter": "python",
   "pygments_lexer": "ipython3",
   "version": "3.10.11"
  }
 },
 "nbformat": 4,
 "nbformat_minor": 2
}
