{
  "cells": [
    {
      "cell_type": "markdown",
      "metadata": {
        "id": "w6RlOAXV2PWh"
      },
      "source": [
        "**Problem 1: Write a program that will give you in hand monthly salary after deduction on CTC - HRA(10%), DA(5%), PF(3%) and taxes deduction as below:**\n",
        "\n",
        "Salary(Lakhs) : Tax(%)\n",
        "\n",
        "- Below 5 : 0%\n",
        "- 5-10 : 10%\n",
        "- 10-20 : 20%\n",
        "- above 20 : 30%"
      ]
    },
    {
      "cell_type": "code",
      "execution_count": 3,
      "metadata": {
        "id": "7tMHvKYO2etI"
      },
      "outputs": [
        {
          "name": "stdout",
          "output_type": "stream",
          "text": [
            "Current CTC is: 1100000\n",
            "The monthly salary is: 91666.66666666667\n",
            "--------------------------------------------------\n",
            "Your tax deduction is as follows:\n",
            "Your HRA is: 110000.0\n",
            "Your DA is: 55000.0\n",
            "Your pf is: 33000.0\n"
          ]
        }
      ],
      "source": [
        "current_ctc = int(input('Enter Your Current CTC'))\n",
        "\n",
        "hra = current_ctc * 0.1\n",
        "da = current_ctc * 0.05\n",
        "pf = current_ctc * 0.03\n",
        "\n",
        "inhand = current_ctc - (hra + da + pf)\n",
        "\n",
        "if current_ctc < 500000:\n",
        "    tax = 0\n",
        "elif current_ctc < 1000000 and current_ctc > 500000:\n",
        "    tax = 0.1\n",
        "elif current_ctc < 2000000 and current_ctc > 1000000:\n",
        "    tax = 0.2\n",
        "elif current_ctc > 2000000:\n",
        "    tax = 0.3\n",
        "\n",
        "tax_amount = inhand * tax\n",
        "\n",
        "monthly_salary = current_ctc / 12\n",
        "\n",
        "print('Current CTC is:', current_ctc)\n",
        "print(\"The monthly salary is:\", monthly_salary)\n",
        "print('--------------------------------------------------')\n",
        "print('Your tax deduction is as follows:')\n",
        "print('Your HRA is:', hra)\n",
        "print('Your DA is:', da)\n",
        "print('Your pf is:', pf)"
      ]
    },
    {
      "cell_type": "markdown",
      "metadata": {
        "id": "tYzCGqwl2hfN"
      },
      "source": [
        "**Problem 2: Write a program that take a user input of three angles and will find out whether it can form a triangle or not.**"
      ]
    },
    {
      "cell_type": "code",
      "execution_count": 9,
      "metadata": {
        "id": "FYEqln-I2kxV"
      },
      "outputs": [
        {
          "name": "stdout",
          "output_type": "stream",
          "text": [
            "The first angle is: 45\n",
            "The second angle is: 45\n",
            "The third angle is: 45\n",
            "The addition of 1st, 2nd and 3rd angle is: 135\n",
            "The sum of all the angles provided by you is: 135\n",
            "It cannot form a triangle as the angles provided by you are less than 180 degrees\n"
          ]
        }
      ],
      "source": [
        "fa = int(input('Enter 1st angle of any degree\\n'))\n",
        "print('The first angle is:',fa)\n",
        "\n",
        "sa = int(input('Enter 2nd angle of any degree\\n'))\n",
        "print('The second angle is:',sa)\n",
        "\n",
        "ta = int(input('Enter 3rd angle of any degree\\n'))\n",
        "print('The third angle is:',ta)\n",
        "\n",
        "sot = fa+sa+ta\n",
        "\n",
        "print('The addition of 1st, 2nd and 3rd angle is:',sot)\n",
        "\n",
        "if sot == 180:\n",
        "    print('It is a triangle')\n",
        "elif sot > 180:\n",
        "    print('It cannot form a triangle as it exceedes 180 degrees')\n",
        "elif sot < 180:\n",
        "    print('The sum of all the angles provided by you is:', sot)\n",
        "    print('It cannot form a triangle as the angles provided by you are less than 180 degrees')"
      ]
    },
    {
      "cell_type": "markdown",
      "metadata": {
        "id": "5vEpPh8C2pE4"
      },
      "source": [
        "**Problem 3: Write a program that will take user input of cost price and selling price and determines whether its a loss or a profit.**"
      ]
    },
    {
      "cell_type": "code",
      "execution_count": 11,
      "metadata": {
        "id": "jDwBXlkO2sfl"
      },
      "outputs": [
        {
          "name": "stdout",
          "output_type": "stream",
          "text": [
            "Congratulations!! You are in Profit of: 20000\n"
          ]
        }
      ],
      "source": [
        "cost_price = int(input('Enter a Cost Price of an item'))\n",
        "selling_price = int(input('For how much did you sold that item?'))\n",
        "\n",
        "sale = selling_price - cost_price\n",
        "\n",
        "if selling_price > cost_price:\n",
        "    print('Congratulations!! You are in Profit of:', sale)\n",
        "elif selling_price < cost_price:\n",
        "    print('Sorry, you have made a loss of:', sale)\n",
        "elif selling_price == cost_price:\n",
        "    print('You have neither made a profit or loss')"
      ]
    },
    {
      "cell_type": "markdown",
      "metadata": {
        "id": "J_FG_cJW2ugT"
      },
      "source": [
        "**Problem 4: Write a menu-driven program:**\n",
        "1. cm to ft\n",
        "2. KM to Miles\n",
        "3. USD to INR\n",
        "4. exit"
      ]
    },
    {
      "cell_type": "code",
      "execution_count": null,
      "metadata": {
        "id": "yBHhaCGQ2zpD"
      },
      "outputs": [],
      "source": [
        "print('Welcome to Unit Convertor')\n",
        "\n",
        "def cm_to_feet(centimeter):\n",
        "    ''''\n",
        "    This is program that converts the centimeters in feets\n",
        "    '''\n",
        "    feet = centimeter/30.48\n",
        "    return round(feet, 2)\n",
        "\n",
        "cm = float(input('Enter any value that you want to convert into feet\\n'))\n",
        "feet = cm_to_feet(cm)\n",
        "print(f'{cm} centimeter is', feet, 'feet')\n",
        "\n",
        "\n",
        "def km_to_miles(km):\n",
        "    ''''\n",
        "    This is program that converts the Kilometers to Miles\n",
        "    '''\n",
        "    Miles = km/1.609344\n",
        "    return round(Miles, 2)\n",
        "\n",
        "km = float(input('Enter any value of Kilometer into Miles\\n'))\n",
        "miles = km_to_miles(km)\n",
        "print(f'{km} kilometer is', miles, 'miles')"
      ]
    },
    {
      "cell_type": "markdown",
      "metadata": {
        "id": "LJJ30_Yw27ZU"
      },
      "source": [
        "**Problem 5: Display Fibonacci series up to 10 terms.**\n",
        "\n",
        "*Note: The Fibonacci Sequence is a series of numbers. The next number is found by adding up the two numbers before it. The first two numbers are 0 and 1. For example, 0, 1, 1, 2, 3, 5, 8, 13, 21. The next number in this series above is 13+21 = 34*"
      ]
    },
    {
      "cell_type": "code",
      "execution_count": 10,
      "metadata": {
        "id": "ae_1rpe52-5R"
      },
      "outputs": [
        {
          "name": "stdout",
          "output_type": "stream",
          "text": [
            "0\n",
            "1\n",
            "1\n",
            "2\n",
            "3\n",
            "5\n",
            "8\n",
            "13\n",
            "21\n",
            "34\n"
          ]
        }
      ],
      "source": [
        "a, b = 0, 1\n",
        "\n",
        "for i in range(10):\n",
        "    print(a)\n",
        "    a, b = b, a + b"
      ]
    },
    {
      "cell_type": "markdown",
      "metadata": {
        "id": "pk_I_S4m3PT5"
      },
      "source": [
        "**Problem 6: Find the factorial of a given number. Write a program to use the loop to find the factorial of a given number. The factorial (symbol: !) means to multiply all whole numbers from the chosen number down to 1.**\n",
        "\n",
        "For example: calculate the factorial of 5\n",
        "\n",
        "5! = 5 × 4 × 3 × 2 × 1 = 120\n",
        "\n",
        "Output:\n",
        "120"
      ]
    },
    {
      "cell_type": "code",
      "execution_count": 15,
      "metadata": {
        "id": "lzXxHegx3Rkc"
      },
      "outputs": [
        {
          "name": "stdout",
          "output_type": "stream",
          "text": [
            "The factorial of number 5 is 120\n"
          ]
        }
      ],
      "source": [
        "num = int(input(\"Enter a number to calculate the factorial\\n\"))\n",
        "\n",
        "result = 1\n",
        "for i in range(1, num+1):\n",
        "    result *= i\n",
        "\n",
        "print(f'The factorial of number {num} is {result}')"
      ]
    },
    {
      "cell_type": "markdown",
      "metadata": {
        "id": "-17IOi-g3UpU"
      },
      "source": [
        "**Problem 7: Reverse a given integer number.**\n",
        "\n",
        "Example:\n",
        "\n",
        "Input:\n",
        "76542\n",
        "\n",
        "Output:\n",
        "24567"
      ]
    },
    {
      "cell_type": "code",
      "execution_count": 7,
      "metadata": {
        "id": "wJwLpKCr3aVA"
      },
      "outputs": [
        {
          "name": "stdout",
          "output_type": "stream",
          "text": [
            "5432\n"
          ]
        }
      ],
      "source": [
        "num = input(\"Enter the number to reverse it:\\n\")\n",
        "reversed_text = num[::-1]\n",
        "print(reversed_text)"
      ]
    },
    {
      "cell_type": "markdown",
      "metadata": {
        "id": "-t8PJQaY3sHf"
      },
      "source": [
        "**Problem 8: Take a user input as integer N. Find out the sum from 1 to N. If any number if divisible by 5, then skip that number. And if the sum is greater than 300, don't need to calculate the sum further more. Print the final result. And don't use for loop to solve this problem.**\n",
        "\n",
        "Example:\n",
        "\n",
        "Input:\n",
        "30\n",
        "\n",
        "Output:\n",
        "276"
      ]
    },
    {
      "cell_type": "code",
      "execution_count": 8,
      "metadata": {
        "id": "GZB6mGMP3ujT"
      },
      "outputs": [
        {
          "name": "stdout",
          "output_type": "stream",
          "text": [
            "The sum of all the integer till 30 excluding multiples of 5 is 303\n"
          ]
        }
      ],
      "source": [
        "intn = int(input('Enter an Integer\\n'))\n",
        "sum = 0\n",
        "i = 1\n",
        "\n",
        "while i<intn and sum <= 300:\n",
        "    if i%5 != 0:\n",
        "        sum += i\n",
        "    i += 1\n",
        "\n",
        "print(f'The sum of all the integer till', intn, 'excluding multiples of 5 is', sum)"
      ]
    },
    {
      "cell_type": "markdown",
      "metadata": {
        "id": "Q7ggImeA3xm4"
      },
      "source": [
        "**Problem 9: Write a program that keeps on accepting a number from the user until the user enters Zero. Display the sum and average of all the numbers.**"
      ]
    },
    {
      "cell_type": "code",
      "execution_count": 20,
      "metadata": {
        "id": "t_YDSZDe4Kdo"
      },
      "outputs": [
        {
          "name": "stdout",
          "output_type": "stream",
          "text": [
            "The sum of integer is 15\n",
            "The avg of the entered numbers is 3.0\n"
          ]
        }
      ],
      "source": [
        "sum = 0\n",
        "num_count = 0\n",
        "\n",
        "while True:\n",
        "    N = int(input('Enter the interger except zero'))\n",
        "    \n",
        "    if N == 0:\n",
        "        break\n",
        "    \n",
        "    sum += N\n",
        "    num_count += 1\n",
        "    avg = sum / num_count\n",
        "\n",
        "print(f'The sum of integer is', sum)\n",
        "print('The avg of the entered numbers is', avg)"
      ]
    },
    {
      "cell_type": "markdown",
      "metadata": {
        "id": "6EhvEMvm4R7s"
      },
      "source": [
        "**Problem 10: Write a program which will find all such numbers which are divisible by 7 but are not a multiple of 5, between 2000 and 3200 (both included). The numbers obtained should be printed in a comma-separated sequence on a single line.**"
      ]
    },
    {
      "cell_type": "code",
      "execution_count": null,
      "metadata": {
        "id": "d6RgP1B34T6c"
      },
      "outputs": [],
      "source": [
        "# Write code here"
      ]
    },
    {
      "cell_type": "markdown",
      "metadata": {
        "id": "tYvmRR-G4Vp4"
      },
      "source": [
        "**Problem 11: Write a program, which will find all such numbers between 1000 and 3000 (both included) such that each digit of the number is an even number. The numbers obtained should be printed in a space-separated sequence on a single line.**"
      ]
    },
    {
      "cell_type": "code",
      "execution_count": null,
      "metadata": {
        "id": "k6Gs1kIf4k19"
      },
      "outputs": [],
      "source": [
        "# Write code here"
      ]
    },
    {
      "cell_type": "markdown",
      "metadata": {
        "id": "GV18IINT4mf5"
      },
      "source": [
        "**Problem 12: A robot moves in a plane starting from the original point (0,0). The robot can move toward UP, DOWN, LEFT and RIGHT with a given steps.\n",
        "The trace of robot movement is shown as the following:**\n",
        "\n",
        "- UP 5\n",
        "- DOWN 3\n",
        "- LEFT 3\n",
        "- RIGHT 2\n",
        "- !\n",
        "\n",
        "*The numbers after the direction are steps.*\n",
        "*! means robot stop there.*\n",
        "\n",
        "**Please write a program to compute the distance from current position after a sequence of movement and original point.**\n",
        "\n",
        "*If the distance is a float, then just print the nearest integer.*\n",
        "\n",
        "Example:\n",
        "\n",
        "Input:\n",
        "- UP 5\n",
        "- DOWN 3\n",
        "- LEFT 3\n",
        "- RIGHT 2\n",
        "- !\n",
        "\n",
        "Output:\n",
        "2"
      ]
    },
    {
      "cell_type": "code",
      "execution_count": null,
      "metadata": {
        "id": "6UNMC2aR4w5x"
      },
      "outputs": [],
      "source": [
        "# Write code here"
      ]
    },
    {
      "cell_type": "markdown",
      "metadata": {
        "id": "3fsAIAhK5GYY"
      },
      "source": [
        "**Problem 13: Write a program to print whether a given number is a prime number or not**"
      ]
    },
    {
      "cell_type": "code",
      "execution_count": null,
      "metadata": {
        "id": "j6y91lxy5LZs"
      },
      "outputs": [],
      "source": [
        "# Write code here"
      ]
    },
    {
      "cell_type": "markdown",
      "metadata": {
        "id": "asAbmbK-5NHv"
      },
      "source": [
        "**Problem 14: Print all the Armstrong numbers in a given range. Range will be provided by the user. Armstrong number is a number that is equal to the sum of cubes of its digits.**\n",
        "\n",
        "For example: 0, 1, 153, 370, 371 and 407 are the Armstrong numbers."
      ]
    },
    {
      "cell_type": "code",
      "execution_count": null,
      "metadata": {
        "id": "PZuI67pm5jCT"
      },
      "outputs": [],
      "source": [
        "# Write code here"
      ]
    },
    {
      "cell_type": "markdown",
      "metadata": {
        "id": "ClCQZMqT7gK0"
      },
      "source": [
        "**Problem 15: Calculate the angle between the hour hand and minute hand.**\n",
        "\n",
        "*Note: There can be two angles between hands; we need to print a minimum of two. Also, we need to print the floor of the final result angle. For example, if the final angle is 10.61, we need to print 10.*\n",
        "\n",
        "*Explanation: The minimum angle between hour and minute hand when the time is 9 is 90 degress.*\n",
        "\n",
        "Input:\n",
        "H = 9 , M = 0\n",
        "\n",
        "Output:\n",
        "90"
      ]
    },
    {
      "cell_type": "code",
      "execution_count": null,
      "metadata": {
        "id": "tNBTCZML7jy_"
      },
      "outputs": [],
      "source": [
        "# Write code here"
      ]
    },
    {
      "cell_type": "markdown",
      "metadata": {
        "id": "GwacF9Co72Qc"
      },
      "source": [
        "**Problem 15: Given two rectangles, find if the given two rectangles overlap or not. A rectangle is denoted by providing the x and y coordinates of two points: the left top corner and the right bottom corner of the rectangle. Two rectangles sharing a side are considered overlapping. (L1 and R1 are the extreme points of the first rectangle and L2 and R2 are the extreme points of the second rectangle).**\n",
        "\n",
        "*Note: It may be assumed that the rectangles are parallel to the coordinate axis.*\n",
        "\n",
        "<img src='https://www.geeksforgeeks.org/wp-content/uploads/rectanglesOverlap.png' width='300' height='200'>"
      ]
    },
    {
      "cell_type": "code",
      "execution_count": null,
      "metadata": {
        "id": "6rrw_lpH78Rs"
      },
      "outputs": [],
      "source": [
        "# Write code here"
      ]
    },
    {
      "cell_type": "code",
      "execution_count": null,
      "metadata": {},
      "outputs": [],
      "source": []
    }
  ],
  "metadata": {
    "colab": {
      "provenance": []
    },
    "kernelspec": {
      "display_name": "Python 3",
      "name": "python3"
    },
    "language_info": {
      "codemirror_mode": {
        "name": "ipython",
        "version": 3
      },
      "file_extension": ".py",
      "mimetype": "text/x-python",
      "name": "python",
      "nbconvert_exporter": "python",
      "pygments_lexer": "ipython3",
      "version": "3.10.11"
    }
  },
  "nbformat": 4,
  "nbformat_minor": 0
}
