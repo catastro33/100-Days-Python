{
 "cells": [
  {
   "cell_type": "markdown",
   "metadata": {},
   "source": [
    "## **Operator in Python:**"
   ]
  },
  {
   "cell_type": "markdown",
   "metadata": {},
   "source": [
    "**1) Write a program that calculates the net salary after deductions and taxes for an employee with additional benefits deduction (e.g., insurance).**\n",
    "\n",
    "- Employees’ State Insurance (ESI) = 1.75%\n",
    "- Employees’ Provident Fund (EPF) = 12%\n",
    "- House Rent Allowance (HRA) = 4%"
   ]
  },
  {
   "cell_type": "code",
   "execution_count": 8,
   "metadata": {},
   "outputs": [
    {
     "name": "stdout",
     "output_type": "stream",
     "text": [
      "68541.66666666667\n"
     ]
    }
   ],
   "source": [
    "CTC = int(input('Enter your salary\\n'))\n",
    "\n",
    "esi = CTC * (1.75/100)\n",
    "epf = CTC * (12/100)\n",
    "hra = CTC * (4/100)\n",
    "taxes = esi + epf + hra\n",
    "in_hand = (CTC - taxes)/12\n",
    "print(in_hand)"
   ]
  },
  {
   "cell_type": "markdown",
   "metadata": {},
   "source": [
    "**2) Create a program that computes the final price of an item after applying a discount and taxes.**\n",
    "\n",
    "- 30% OFF on every T shirt (T shirts of size S, M and L are 500/- and XL and XXL are 750/-)\n",
    "\n",
    "- 15% OFF on every Denim Jeans (S,M, L size Jeans are 1500/- | XL and XXL are 2000/-)\n",
    "\n",
    "- 10% OFF on Shirt\n",
    "(S,M, L size shirts are 1000/- | XL and XXL are 1300/-)\n",
    "\n",
    "- 20% OFF on shoes\n",
    "(S,M and L size shoe are 900/- | XL and XXL are 1200/-)\n",
    "\n",
    "- Service Tax - 10%"
   ]
  },
  {
   "cell_type": "code",
   "execution_count": 3,
   "metadata": {},
   "outputs": [
    {
     "name": "stdout",
     "output_type": "stream",
     "text": [
      "The Original Total is: 8700\n",
      "The Discounted Total is: 7170.0\n"
     ]
    }
   ],
   "source": [
    "\"Holiday Bonanza\"\n",
    "# T shirt \n",
    "tshirt_size = input(\"What's the size of your T shirt?\\n\")\n",
    "tshirt_num = int(input(\"How many T shirts do you want?\\n\"))\n",
    "if tshirt_size in ('S', 'M', 'L'):\n",
    "    tshirt_prize = 500\n",
    "else:\n",
    "    tshirt_prize = 750\n",
    "\n",
    "ts_money_saved = (0.3 * tshirt_prize)\n",
    "ts_dis = tshirt_prize - ts_money_saved\n",
    "tshirt_dis_prize = ts_dis * tshirt_num\n",
    "tshirt_tot_prize = tshirt_prize * tshirt_num\n",
    "\n",
    "# Jeans\n",
    "jeans_size = input(\"What's the size of your Jeans?\\n\")\n",
    "jeans_num = int(input(\"How many jeans do you want?\\n\"))\n",
    "\n",
    "if jeans_size in ('S', 'M', 'L'):\n",
    "    jeans_prize = 1500\n",
    "else:\n",
    "    jeans_prize = 2000\n",
    "\n",
    "jns_money_saved = (0.15 * jeans_prize)\n",
    "jns_dis = jeans_prize - jns_money_saved\n",
    "jeans_dis_prize = jns_dis * jeans_num\n",
    "jeans_tot_prize = jeans_prize * jeans_num\n",
    "\n",
    "# Shirts\n",
    "shirt_size = input(\"What's the size of your shirt?\\n\")\n",
    "shirt_num = int(input(\"How many shirts do you want?\\n\"))\n",
    "\n",
    "if shirt_size in ('S', 'M', 'L'):\n",
    "    shirt_prize = 1000\n",
    "else:\n",
    "    shirt_prize = 1300\n",
    "\n",
    "srt_money_saved = (0.15 * shirt_prize)\n",
    "srt_dis = shirt_prize - srt_money_saved\n",
    "shirt_dis_prize = srt_dis * shirt_num\n",
    "shirt_tot_prize = shirt_prize * shirt_num\n",
    "\n",
    "# Shoes\n",
    "shoe_size = input(\"What is the size of your shoe?\\n\")\n",
    "shoe_num = 1\n",
    "\n",
    "if shoe_size in (6, 7, 8):\n",
    "    shoe_prize = 900\n",
    "else:\n",
    "    shoe_prize = 1200\n",
    "\n",
    "shoe_money_saved = (0.15 * shoe_prize)\n",
    "shoe_dis = shoe_prize - shoe_money_saved\n",
    "shoe_dis_prize = shoe_dis * shoe_num\n",
    "shoe_tot_prize = shoe_prize * shoe_num\n",
    "\n",
    "Orig_Total = tshirt_tot_prize + jeans_tot_prize + shirt_tot_prize + shoe_tot_prize\n",
    "Dis_Total = tshirt_dis_prize + jeans_dis_prize + shirt_dis_prize + shoe_dis_prize\n",
    "\n",
    "print(\"The Original Total is:\", Orig_Total)\n",
    "print(\"The Discounted Total is:\", Dis_Total)"
   ]
  },
  {
   "cell_type": "markdown",
   "metadata": {},
   "source": [
    "**3) Develop a program that converts temperatures from Celsius to Fahrenheit and vice versa based on user input.**"
   ]
  },
  {
   "cell_type": "code",
   "execution_count": 9,
   "metadata": {},
   "outputs": [
    {
     "name": "stdout",
     "output_type": "stream",
     "text": [
      "Welcome to Temperature Convertor\n",
      "-40 Degree Celcius is -40.0 Fahrenheit\n",
      "-40 Degree Fahrenheit is -40.0 Celsius\n"
     ]
    }
   ],
   "source": [
    "print(\"Welcome to Temperature Convertor\")\n",
    "Celcius = int(input(\"Enter a Temperature to Convert from Celsius to Fahrenheit\\n\"))\n",
    "C_to_F = (Celcius * (9/5) + 32)\n",
    "print(f'{Celcius}', \"Degree Celcius is\", C_to_F,  'Fahrenheit')\n",
    "\n",
    "Fahrenheit = int(input(\"Enter a Temperature to Convert from Fahrenheit to Celsius\\n\"))\n",
    "F_to_C = (Fahrenheit - 32) * (5/9)\n",
    "print(f'{Fahrenheit}', \"Degree Fahrenheit is\", F_to_C,  'Celsius')"
   ]
  },
  {
   "cell_type": "markdown",
   "metadata": {},
   "source": [
    "**4) Design a program that calculates the area of various shapes (circle, rectangle, triangle) based on user choice.**"
   ]
  },
  {
   "cell_type": "code",
   "execution_count": 13,
   "metadata": {},
   "outputs": [
    {
     "name": "stdout",
     "output_type": "stream",
     "text": [
      "Error: Width cannot be greater than length. Try again.\n",
      "The Area of Rectangle is: 5000.0 Square Meter\n"
     ]
    }
   ],
   "source": [
    "# Area of Rectangle\n",
    "while True:\n",
    "    length = float(input('Enter the length of the rectangle\\n'))\n",
    "    width = float(input('Enter the width of the rectangle\\n'))\n",
    "    \n",
    "    if width > length:\n",
    "        print('Error: Width cannot be greater than length. Try again.')\n",
    "    else:\n",
    "        break\n",
    "\n",
    "Area_of_rec = length * width\n",
    "print('The Area of Rectangle is:', Area_of_rec, 'Square Meter')"
   ]
  },
  {
   "cell_type": "code",
   "execution_count": 14,
   "metadata": {},
   "outputs": [
    {
     "name": "stdout",
     "output_type": "stream",
     "text": [
      "The Area of Triangle is: 56.25\n"
     ]
    }
   ],
   "source": [
    "# Area of Triangle\n",
    "height = float(input('Enter the height of the triangle\\n'))\n",
    "base = float(input('Enter the base of the triangle\\n'))\n",
    "\n",
    "area_of_tri = (0.5 * base * height)\n",
    "print('The Area of Triangle is:', area_of_tri)"
   ]
  },
  {
   "cell_type": "code",
   "execution_count": 16,
   "metadata": {},
   "outputs": [
    {
     "name": "stdout",
     "output_type": "stream",
     "text": [
      "The Area of Circle is: 1256.6370614359173\n"
     ]
    }
   ],
   "source": [
    "# Area of Circle\n",
    "import math\n",
    "\n",
    "radius = float(input('What is the radius of the circle?\\n'))\n",
    "area_of_cir = math.pi * radius**2\n",
    "\n",
    "print('The Area of Circle is:', area_of_cir)"
   ]
  },
  {
   "cell_type": "markdown",
   "metadata": {},
   "source": [
    "**5) Implement a program that calculates compound interest based on user input for principal amount, interest rate, and time.**"
   ]
  },
  {
   "cell_type": "code",
   "execution_count": null,
   "metadata": {},
   "outputs": [],
   "source": []
  }
 ],
 "metadata": {
  "kernelspec": {
   "display_name": "Python 3",
   "language": "python",
   "name": "python3"
  },
  "language_info": {
   "codemirror_mode": {
    "name": "ipython",
    "version": 3
   },
   "file_extension": ".py",
   "mimetype": "text/x-python",
   "name": "python",
   "nbconvert_exporter": "python",
   "pygments_lexer": "ipython3",
   "version": "3.10.11"
  }
 },
 "nbformat": 4,
 "nbformat_minor": 2
}
