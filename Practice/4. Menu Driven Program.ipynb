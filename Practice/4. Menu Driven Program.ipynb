{
 "cells": [
  {
   "cell_type": "markdown",
   "metadata": {},
   "source": [
    "## **Menu Driven Program**"
   ]
  },
  {
   "cell_type": "markdown",
   "metadata": {},
   "source": [
    "**1) Write a program that converts between different units of measurement (e.g., weight, volume, length) based on user selection.**"
   ]
  },
  {
   "cell_type": "code",
   "execution_count": 1,
   "metadata": {},
   "outputs": [
    {
     "name": "stdout",
     "output_type": "stream",
     "text": [
      "Welcome to measurement convertor\n",
      "5 kilogram is 5000 gram\n"
     ]
    }
   ],
   "source": [
    "print('Welcome to measurement convertor')\n",
    "\n",
    "convertor = int(input('Enter a number to start the conversion\\n'))\n",
    "if convertor == 1:\n",
    "    cm_mm = int(input('Enter a value to convert CM to MM\\n'))\n",
    "    cm_to_mm = cm_mm * 10\n",
    "    print(cm_mm, 'centimeter is', cm_to_mm, 'milimeter')\n",
    "elif convertor == 2:\n",
    "    kg_gm = int(input('Enter a value to convert Kilogram to Gram\\n'))\n",
    "    kg_to_gm = kg_gm * 1000\n",
    "    print(kg_gm, 'kilogram is', kg_to_gm, 'gram')\n",
    "elif convertor == 3:\n",
    "    hours_min = int(input('Enter a value to convert Hours into Minutes\\n'))\n",
    "    hours_to_min = hours_min * 60\n",
    "    print(hours_min, 'hours is', hours_to_min, 'minutes')\n",
    "else:\n",
    "    print('No conversion available')\n",
    "    "
   ]
  },
  {
   "cell_type": "markdown",
   "metadata": {},
   "source": [
    "**2) Create a program that performs basic arithmetic operations (addition, subtraction, multiplication, division) based on user input.**"
   ]
  },
  {
   "cell_type": "code",
   "execution_count": 6,
   "metadata": {},
   "outputs": [
    {
     "name": "stdout",
     "output_type": "stream",
     "text": [
      "Addition 79\n",
      "Subtraction -11\n",
      "Multiply 1530\n",
      "Division 0.7555555555555555\n"
     ]
    }
   ],
   "source": [
    "def add(num1, num2):\n",
    "    return num1 + num2\n",
    "\n",
    "def subt(num1, num2):\n",
    "    return num1 - num2\n",
    "\n",
    "def multi(num1, num2):\n",
    "    return num1 * num2\n",
    "\n",
    "def div(num1, num2):\n",
    "    if num2 == 0:\n",
    "        return \"Error! Division by zero is not possible\"\n",
    "    else:\n",
    "        return num1/num2\n",
    "\n",
    "num1 = int(input('Enter first number\\n'))\n",
    "num2 = int(input('Enter the second number\\n'))\n",
    "\n",
    "print(\"Addition\", add(num1, num2))\n",
    "print(\"Subtraction\", subt(num1, num2))\n",
    "print(\"Multiply\", multi(num1, num2))\n",
    "print(\"Division\", div(num1, num2))"
   ]
  },
  {
   "cell_type": "markdown",
   "metadata": {},
   "source": [
    "**3) Implement a program that provides information about movies based on user queries (e.g., title, genre, release year).**"
   ]
  },
  {
   "cell_type": "code",
   "execution_count": 3,
   "metadata": {},
   "outputs": [
    {
     "name": "stdout",
     "output_type": "stream",
     "text": [
      "Pathaan\n",
      "Jawaan\n",
      "Raes\n"
     ]
    }
   ],
   "source": [
    "movie_list = [{'Title': 'Jab Tak Hai Jaan', 'Genre': 'Romance', 'RY': 2012},\n",
    "              {'Title': 'Devdas', 'Genre': 'Romance', 'RY': 2002},\n",
    "              {'Title': 'Veer-Zaara', 'Genre': 'Romance', 'RY': 2004},\n",
    "              {'Title': 'Kabhi Khushi Kabhie Gham', 'Genre': 'Romance', 'RY': 2001},\n",
    "              {'Title': 'Kal Ho Naa Ho', 'Genre': 'Romance', 'RY': 2003},\n",
    "              {'Title': 'Chennai Express', 'Genre': 'Comedy', 'RY': 2013},\n",
    "              {'Title': 'Baadshah', 'Genre': 'Comedy', 'RY': 1999},\n",
    "              {'Title': 'Yes Boss', 'Genre': 'Comedy', 'RY': 1997},\n",
    "              {'Title': 'Duplicate', 'Genre': 'Comedy', 'RY': 1998},\n",
    "              {'Title': 'Pathaan', 'Genre': 'Action', 'RY': 2023},\n",
    "              {'Title': 'Jawaan', 'Genre': 'Action', 'RY': 2023},\n",
    "              {'Title': 'Raes', 'Genre': 'Action', 'RY': 2017}]\n",
    "\n",
    "action_movie = []\n",
    "\n",
    "for movie in movie_list:\n",
    "    if movie['Genre'] == 'Action':\n",
    "        action_movie.append(movie)\n",
    "\n",
    "for movie in action_movie:\n",
    "    print(movie['Title'])\n",
    "    "
   ]
  }
 ],
 "metadata": {
  "kernelspec": {
   "display_name": "Python 3",
   "language": "python",
   "name": "python3"
  },
  "language_info": {
   "codemirror_mode": {
    "name": "ipython",
    "version": 3
   },
   "file_extension": ".py",
   "mimetype": "text/x-python",
   "name": "python",
   "nbconvert_exporter": "python",
   "pygments_lexer": "ipython3",
   "version": "3.10.11"
  }
 },
 "nbformat": 4,
 "nbformat_minor": 2
}
