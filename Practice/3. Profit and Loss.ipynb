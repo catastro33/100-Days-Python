{
 "cells": [
  {
   "cell_type": "markdown",
   "metadata": {},
   "source": [
    "## **Profit and Loss**"
   ]
  },
  {
   "cell_type": "markdown",
   "metadata": {},
   "source": [
    "**1) Develop a program that calculates the profit percentage based on the cost price and selling price.**"
   ]
  },
  {
   "cell_type": "code",
   "execution_count": null,
   "metadata": {},
   "outputs": [],
   "source": [
    "cost_price = int(input('Enter the cost price\\n'))\n",
    "selling_price = int(input('Enter the selling price of any item\\n'))\n",
    "transaction = selling_price\n",
    "profit = selling_price - cost_price\n",
    "profit_per = ((selling_price - cost_price)/cost_price)*100\n",
    "\n",
    "print('The Cost price of this item is:', cost_price)\n",
    "print('The selling price of this item is:', selling_price)\n",
    "\n",
    "if transaction > cost_price:\n",
    "    print('Congratulations you have earned a profit of', profit)\n",
    "    print('The Profit Percentage for this item is:', profit_per,'%')\n",
    "elif transaction == cost_price:\n",
    "    print('This is break-even point, NO PROFIT, NO LOSS')\n",
    "else:\n",
    "    print('You have encoured a loss of', transaction)"
   ]
  },
  {
   "cell_type": "markdown",
   "metadata": {},
   "source": [
    "**2) Create a program that analyzes the profit/loss incurred on multiple items sold by a company. Also calculate the breakeven point**"
   ]
  },
  {
   "cell_type": "code",
   "execution_count": null,
   "metadata": {},
   "outputs": [],
   "source": [
    "while True:\n",
    "    item = input('Enter an item you want to purchase (enter 0 to exit)\\n')\n",
    "    if item != '0':  # Check if the input is not '0'\n",
    "        print(item)\n",
    "    else:\n",
    "        break\n",
    "    \n",
    "    cost_price = int(input('Enter the cost price\\n'))\n",
    "    selling_price = int(input('Enter the selling price of any item\\n'))\n",
    "    transaction = selling_price\n",
    "    profit = selling_price - cost_price\n",
    "    profit_per = ((selling_price - cost_price)/cost_price)*100\n",
    "    \n",
    "    print('The Cost price of this item is:', cost_price)\n",
    "    print('The selling price of this item is:', selling_price)\n",
    "    \n",
    "    if transaction > cost_price:\n",
    "        print('Congratulations you have earned a profit of', profit)\n",
    "        print('The Profit Percentage for this item is:', profit_per,'%')\n",
    "    elif transaction == cost_price:\n",
    "        print('This is break-even point, NO PROFIT, NO LOSS')\n",
    "    else:\n",
    "        print('You have encoured a loss of', transaction)"
   ]
  }
 ],
 "metadata": {
  "kernelspec": {
   "display_name": "Python 3",
   "language": "python",
   "name": "python3"
  },
  "language_info": {
   "codemirror_mode": {
    "name": "ipython",
    "version": 3
   },
   "file_extension": ".py",
   "mimetype": "text/x-python",
   "name": "python",
   "nbconvert_exporter": "python",
   "pygments_lexer": "ipython3",
   "version": "3.10.11"
  }
 },
 "nbformat": 4,
 "nbformat_minor": 2
}
