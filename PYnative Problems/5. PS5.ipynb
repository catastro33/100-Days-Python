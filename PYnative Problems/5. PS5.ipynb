{
 "cells": [
  {
   "cell_type": "markdown",
   "metadata": {},
   "source": [
    "### **Python if else, for loop, and range()**"
   ]
  },
  {
   "cell_type": "markdown",
   "metadata": {},
   "source": [
    "**Exercise 1: Print First 10 natural numbers using while loop**"
   ]
  },
  {
   "cell_type": "code",
   "execution_count": 1,
   "metadata": {},
   "outputs": [
    {
     "name": "stdout",
     "output_type": "stream",
     "text": [
      "1\n",
      "2\n",
      "3\n",
      "4\n",
      "5\n",
      "6\n",
      "7\n",
      "8\n",
      "9\n",
      "10\n"
     ]
    }
   ],
   "source": [
    "i = 1\n",
    "while i <= 10:\n",
    "    print(i)\n",
    "    i += 1"
   ]
  },
  {
   "cell_type": "markdown",
   "metadata": {},
   "source": [
    "**Exercise 2: Print the following pattern.** Write a program to print the following number pattern using a loop.\n",
    "```\n",
    "1 \n",
    "1 2 \n",
    "1 2 3 \n",
    "1 2 3 4 \n",
    "1 2 3 4 5\n",
    "```"
   ]
  },
  {
   "cell_type": "code",
   "execution_count": 8,
   "metadata": {},
   "outputs": [
    {
     "name": "stdout",
     "output_type": "stream",
     "text": [
      "1 \n",
      "1 2 \n",
      "1 2 3 \n",
      "1 2 3 4 \n",
      "1 2 3 4 5 \n"
     ]
    }
   ],
   "source": [
    "rows = 5\n",
    "for i in range(1, rows+1):\n",
    "    for j in range(1, i + 1):\n",
    "        print(j, end=' ')\n",
    "    print()"
   ]
  },
  {
   "cell_type": "markdown",
   "metadata": {},
   "source": [
    "**Exercise 3: Calculate the sum of all numbers from 1 to a given number.** Write a program to accept a number from a user and calculate the sum of all numbers from 1 to a given number. For example, if the user entered 10 the output should be 55 (1+2+3+4+5+6+7+8+9+10)\n",
    "\n",
    "Expected Output:\n",
    "```\n",
    "Enter number 10\n",
    "Sum is:  55\n",
    "```"
   ]
  },
  {
   "cell_type": "code",
   "execution_count": null,
   "metadata": {},
   "outputs": [],
   "source": [
    "target = int(input('Enter a number till you want to calculate the sum\\n'))\n",
    "result = 0\n",
    "for i in range(1, target+1):\n",
    "    result = result + i\n",
    "\n",
    "print(f'The sum of all the numbers from 1 to {target} is :', result)"
   ]
  },
  {
   "cell_type": "markdown",
   "metadata": {},
   "source": [
    "---------------------------------------------------------------------------------------------------\n",
    "**Exercise 4: Write a program to print multiplication table of a given number.** For example, num = 2 so the output should be:\n",
    "```\n",
    "2\n",
    "4\n",
    "6\n",
    "8\n",
    "10\n",
    "```"
   ]
  },
  {
   "cell_type": "code",
   "execution_count": 42,
   "metadata": {},
   "outputs": [
    {
     "name": "stdout",
     "output_type": "stream",
     "text": [
      "3 * 1 =  3\n",
      "3 * 2 =  6\n",
      "3 * 3 =  9\n",
      "3 * 4 =  12\n",
      "3 * 5 =  15\n",
      "3 * 6 =  18\n",
      "3 * 7 =  21\n",
      "3 * 8 =  24\n",
      "3 * 9 =  27\n",
      "3 * 10 =  30\n"
     ]
    }
   ],
   "source": [
    "table = int(input('Enter the number for which you want the multiplication table\\n'))\n",
    "result = 1\n",
    "for i in range(1, 11):\n",
    "    result = table * i\n",
    "    print(f'{table} * {i} = ',result)"
   ]
  },
  {
   "cell_type": "markdown",
   "metadata": {},
   "source": [
    "------------------------------------------------\n",
    "**Exercise 5: Display numbers from a list using loop.** Write a program to display only those numbers from a list that satisfy the following conditions\n",
    "\n",
    "- The number must be divisible by 5\n",
    "- If the number is greater than 150, then skip it and move to the next number\n",
    "- If the number is greater than 500, then stop the loop\n",
    "\n",
    "```\n",
    "Input:\n",
    "numbers = [12, 75, 150, 180, 145, 525, 50]\n",
    "\n",
    "Output:\n",
    "75\n",
    "150\n",
    "145\n",
    "```\n"
   ]
  },
  {
   "cell_type": "code",
   "execution_count": 10,
   "metadata": {},
   "outputs": [
    {
     "name": "stdout",
     "output_type": "stream",
     "text": [
      "[75, 145, 50]\n"
     ]
    }
   ],
   "source": [
    "numbers = [75, 150, 180, 145, 525, 12, 50]\n",
    "\n",
    "num1 = []\n",
    "for i in numbers:\n",
    "    if (i % 5 == 0 and i < 150):\n",
    "        num1.append(i)\n",
    "\n",
    "print(num1)\n",
    "\n"
   ]
  },
  {
   "cell_type": "markdown",
   "metadata": {},
   "source": [
    "**Exercise 6: Count the total number of digits in a number.** Write a program to count the total number of digits in a number using a while loop. For example, the number is 75869, so the output should be 5."
   ]
  },
  {
   "cell_type": "code",
   "execution_count": 17,
   "metadata": {},
   "outputs": [
    {
     "name": "stdout",
     "output_type": "stream",
     "text": [
      "6\n"
     ]
    }
   ],
   "source": [
    "num2 = 758906\n",
    "string1 = str(num2)\n",
    "print(len(string1))\n"
   ]
  },
  {
   "cell_type": "code",
   "execution_count": 21,
   "metadata": {},
   "outputs": [
    {
     "name": "stdout",
     "output_type": "stream",
     "text": [
      "6\n"
     ]
    }
   ],
   "source": [
    "num2 = 758906\n",
    "count = 0\n",
    "temp = num2\n",
    "\n",
    "while temp != 0:\n",
    "    temp //= 10  # Floor division by 10 removes the last digit\n",
    "    count += 1\n",
    "\n",
    "print(count)"
   ]
  }
 ],
 "metadata": {
  "kernelspec": {
   "display_name": "Python 3",
   "language": "python",
   "name": "python3"
  },
  "language_info": {
   "codemirror_mode": {
    "name": "ipython",
    "version": 3
   },
   "file_extension": ".py",
   "mimetype": "text/x-python",
   "name": "python",
   "nbconvert_exporter": "python",
   "pygments_lexer": "ipython3",
   "version": "3.10.11"
  }
 },
 "nbformat": 4,
 "nbformat_minor": 2
}
