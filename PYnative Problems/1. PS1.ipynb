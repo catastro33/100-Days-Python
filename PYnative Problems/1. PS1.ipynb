{
 "cells": [
  {
   "cell_type": "markdown",
   "metadata": {},
   "source": [
    "### **Basic Python Program**"
   ]
  },
  {
   "cell_type": "markdown",
   "metadata": {},
   "source": [
    "**Q1. Calculate the multiplication and sum of two numbers. Given two integer numbers, return their product only if the product is equal to or lower than 1000. Otherwise, return their sum.**\n",
    "\n",
    "```bash\n",
    "Input 1:\n",
    "number1 = 20    \n",
    "number2 = 30\n",
    "\n",
    "Output 1:\n",
    "The sum of 20 and 30 is 50\n",
    "\n",
    "Input 2:\n",
    "number1 = 40\n",
    "number2 = 30\n",
    "\n",
    "Output 2:\n",
    "The product of 40 and 30 is 1200\n",
    "```"
   ]
  },
  {
   "cell_type": "code",
   "execution_count": 6,
   "metadata": {},
   "outputs": [
    {
     "name": "stdout",
     "output_type": "stream",
     "text": [
      "Since the product of two input is greater than 1000, The sum of the two numbers is: 100\n"
     ]
    }
   ],
   "source": [
    "inp1 = int(input('Enter first number\\n'))\n",
    "inp2 = int(input('Enter second number\\n'))\n",
    "inp_prod = inp1 * inp2 \n",
    "\n",
    "inp_sum = inp1 + inp2\n",
    "\n",
    "if inp1 * inp2 <= 1000:\n",
    "    print('Since the product of two input is less than 1000, the product of the two input is:', inp_prod)\n",
    "else:\n",
    "    print('Since the product of two input is greater than 1000, The sum of the two numbers is:', inp_sum)"
   ]
  },
  {
   "cell_type": "markdown",
   "metadata": {},
   "source": [
    "**Q2. Print the sum of the current number and the previous number.** Write a program to iterate the first 10 numbers, and in each iteration, print the sum of the current and previous number.\n",
    "\n",
    "```bash\n",
    "Output:\n",
    "Printing current and previous number sum in a range(10)\n",
    "Current Number 0 Previous Number  0  Sum:  0\n",
    "Current Number 1 Previous Number  0  Sum:  1\n",
    "Current Number 2 Previous Number  1  Sum:  3\n",
    "```"
   ]
  },
  {
   "cell_type": "code",
   "execution_count": 19,
   "metadata": {},
   "outputs": [
    {
     "name": "stdout",
     "output_type": "stream",
     "text": [
      "1\n",
      "2\n",
      "4\n",
      "7\n",
      "11\n",
      "16\n",
      "22\n",
      "29\n",
      "37\n",
      "46\n",
      "56\n"
     ]
    }
   ],
   "source": [
    "result = 1\n",
    "for i in range(0, 11):\n",
    "    result = result + i\n",
    "    print(result)"
   ]
  },
  {
   "cell_type": "markdown",
   "metadata": {},
   "source": [
    "**Q3. Print characters from a string that are present at an even index number. Write a program to accept a string from the user and display characters that are present at an even index number.** \n",
    "\n",
    "For example, str = \"pynative\" so you should display ‘p’, ‘n’, ‘t’, ‘v’"
   ]
  },
  {
   "cell_type": "code",
   "execution_count": 44,
   "metadata": {},
   "outputs": [
    {
     "name": "stdout",
     "output_type": "stream",
     "text": [
      "['w', 'r', 'i', 'n', 'g', 'a', 'd', 'i', 'i', 'u', 'm', ' ', 'l', 'e', 'v', 'i', 'o', 's', 's', 'a']\n",
      "The even characters from the splitted string are:\n",
      "['w', 'i', 'g', 'd', 'i', 'm', 'l', 'v', 'o', 's']\n"
     ]
    }
   ],
   "source": [
    "inp = input('Enter a string\\n')\n",
    "\n",
    "split_str = []\n",
    "for i in inp:\n",
    "    split_str.append(i)\n",
    "\n",
    "print(split_str)\n",
    "\n",
    "even_char = split_str[::2]\n",
    "print('The removed even characters from the splitted string are:')\n",
    "print(even_char)\n",
    "        "
   ]
  },
  {
   "cell_type": "markdown",
   "metadata": {},
   "source": [
    "**Q4. Remove first n characters from a string. Write a program to remove characters from a string starting from zero up to n and return a new string.**\n",
    "\n",
    "For example:\n",
    "- remove_chars(\"pynative\", 4) so output must be tive. Here, we need to remove the first four characters from a string.\n",
    "- remove_chars(\"pynative\", 2) so output must be native. Here, we need to remove the first two characters from a string.\n",
    "\n",
    "Note: n must be less than the length of the string."
   ]
  },
  {
   "cell_type": "code",
   "execution_count": null,
   "metadata": {},
   "outputs": [],
   "source": []
  },
  {
   "cell_type": "markdown",
   "metadata": {},
   "source": [
    "**Q5. Check if the first and last number of a list is the same. Write a function to return True if the first and last number of a given list is same. If numbers are different then return False.**\n",
    "\n",
    "```bash\n",
    "Input:\n",
    "numbers_x = [10, 20, 30, 40, 10]\n",
    "\n",
    "Output:\n",
    "result is True\n",
    "```"
   ]
  },
  {
   "cell_type": "code",
   "execution_count": null,
   "metadata": {},
   "outputs": [],
   "source": []
  }
 ],
 "metadata": {
  "kernelspec": {
   "display_name": "Python 3",
   "language": "python",
   "name": "python3"
  },
  "language_info": {
   "codemirror_mode": {
    "name": "ipython",
    "version": 3
   },
   "file_extension": ".py",
   "mimetype": "text/x-python",
   "name": "python",
   "nbconvert_exporter": "python",
   "pygments_lexer": "ipython3",
   "version": "3.10.11"
  }
 },
 "nbformat": 4,
 "nbformat_minor": 2
}
