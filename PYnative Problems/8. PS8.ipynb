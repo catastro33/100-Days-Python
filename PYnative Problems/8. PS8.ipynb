{
 "cells": [
  {
   "cell_type": "markdown",
   "metadata": {},
   "source": [
    "## **Python Functions Exercise**"
   ]
  },
  {
   "cell_type": "markdown",
   "metadata": {},
   "source": [
    "1. Write a program to create a function that takes two arguments, name and age, and print their value."
   ]
  },
  {
   "cell_type": "code",
   "execution_count": 1,
   "metadata": {},
   "outputs": [
    {
     "name": "stdout",
     "output_type": "stream",
     "text": [
      "My name is Pogba, and I am 36 years old\n"
     ]
    }
   ],
   "source": [
    "name = input('Enter your name\\n')\n",
    "age = int(input('Enter your age\\n'))\n",
    "\n",
    "print(f'My name is {name}, and I am {age} years old')"
   ]
  },
  {
   "cell_type": "markdown",
   "metadata": {},
   "source": [
    "2. Write a program to create function func1() to accept a variable length of arguments and print their value. \n",
    "\n",
    "Note: Create a function in such a way that we can pass any number of arguments to this function, and the function should process them and display each argument’s value."
   ]
  },
  {
   "cell_type": "code",
   "execution_count": 2,
   "metadata": {},
   "outputs": [
    {
     "name": "stdout",
     "output_type": "stream",
     "text": [
      "(1, 2, 3, 'hello', [4, 5], {'key': 'value'})\n"
     ]
    }
   ],
   "source": [
    "# Define func1 using lambda expression\n",
    "func1 = lambda *args: print(args)\n",
    "\n",
    "# Testing func1\n",
    "func1(1, 2, 3, 'hello', [4, 5], {'key': 'value'})"
   ]
  },
  {
   "cell_type": "markdown",
   "metadata": {},
   "source": [
    "3. Write a program to create function calculation() such that it can accept two variables and calculate addition and subtraction. Also, it must return both addition and subtraction in a single return call.\n",
    "```bash\n",
    "Input:\n",
    "def calculation(a, b):\n",
    "\n",
    "res = calculation(40, 10)\n",
    "print(res)\n",
    "\n",
    "Output:\n",
    "50, 30\n",
    "```"
   ]
  },
  {
   "cell_type": "code",
   "execution_count": 10,
   "metadata": {},
   "outputs": [
    {
     "name": "stdout",
     "output_type": "stream",
     "text": [
      "Addition of 56 and 34 is 90 and Subtraction of 56 and 34 is 22\n"
     ]
    }
   ],
   "source": [
    "def calculation(a, b):\n",
    "    addition = a + b\n",
    "    subtraction = a - b\n",
    "    return addition, subtraction\n",
    "\n",
    "a = int(input('Enter the first number\\n'))\n",
    "b = int(input('Enter the second number\\n'))\n",
    "addition = a + b\n",
    "subtraction = a - b\n",
    "res = calculation(a, b)\n",
    "print(f'Addition of {a} and {b} is {addition} and Subtraction of {a} and {b} is {subtraction}')"
   ]
  },
  {
   "cell_type": "markdown",
   "metadata": {},
   "source": [
    "4. Write a program to create a function show_employee() using the following conditions.\n",
    "- It should accept the employee’s name and salary and display both.\n",
    "- If the salary is missing in the function call then assign default value 9000 to salary\n",
    "\n",
    "```bash\n",
    "Input:\n",
    "Employee(\"Ben\", 12000)\n",
    "Employee(\"Jessa\")\n",
    "\n",
    "Output:\n",
    "Name: Ben salary: 12000\n",
    "Name: Jessa salary: 9000\n",
    "```"
   ]
  },
  {
   "cell_type": "code",
   "execution_count": null,
   "metadata": {},
   "outputs": [],
   "source": []
  },
  {
   "cell_type": "markdown",
   "metadata": {},
   "source": [
    "5. **Create an inner function to calculate the addition in the following way**\n",
    "- Create an outer function that will accept two parameters, a and b\n",
    "- Create an inner function inside an outer function that will calculate the addition of a and b\n",
    "- At last, an outer function will add 5 into addition and return it"
   ]
  },
  {
   "cell_type": "code",
   "execution_count": null,
   "metadata": {},
   "outputs": [],
   "source": []
  },
  {
   "cell_type": "markdown",
   "metadata": {},
   "source": [
    "6. Write a program to create a recursive function to calculate the sum of numbers from 0 to 10. A recursive function is a function that calls itself again and again.\n",
    "```bash\n",
    "Output:\n",
    "55\n",
    "```"
   ]
  },
  {
   "cell_type": "code",
   "execution_count": null,
   "metadata": {},
   "outputs": [],
   "source": []
  },
  {
   "cell_type": "markdown",
   "metadata": {},
   "source": [
    "7. Below is the function display_student(name, age). Assign a new name show_tudent(name, age) to it and call it using the new name.\n",
    "```bash\n",
    "def display_student(name, age):\n",
    "    print(name, age)\n",
    "display_student(\"Emma\", 26)\n",
    "\n",
    "Output:\n",
    "show_student(name, age)\n",
    "```"
   ]
  },
  {
   "cell_type": "code",
   "execution_count": null,
   "metadata": {},
   "outputs": [],
   "source": []
  },
  {
   "cell_type": "markdown",
   "metadata": {},
   "source": [
    "8. Generate a Python list of all the even numbers between 4 to 30\n",
    "```bash\n",
    "Output:\n",
    "[4, 6, 8, 10, 12, 14, 16, 18, 20, 22, 24, 26, 28]\n",
    "```"
   ]
  },
  {
   "cell_type": "code",
   "execution_count": null,
   "metadata": {},
   "outputs": [],
   "source": []
  },
  {
   "cell_type": "markdown",
   "metadata": {},
   "source": [
    "9. Find the largest item from a given list\n",
    "```bash\n",
    "Input:\n",
    "x = [4, 6, 8, 24, 12, 2]\n",
    "\n",
    "Output:\n",
    "24\n",
    "```"
   ]
  },
  {
   "cell_type": "code",
   "execution_count": null,
   "metadata": {},
   "outputs": [],
   "source": []
  }
 ],
 "metadata": {
  "kernelspec": {
   "display_name": "Python 3",
   "language": "python",
   "name": "python3"
  },
  "language_info": {
   "codemirror_mode": {
    "name": "ipython",
    "version": 3
   },
   "file_extension": ".py",
   "mimetype": "text/x-python",
   "name": "python",
   "nbconvert_exporter": "python",
   "pygments_lexer": "ipython3",
   "version": "3.10.11"
  }
 },
 "nbformat": 4,
 "nbformat_minor": 2
}
