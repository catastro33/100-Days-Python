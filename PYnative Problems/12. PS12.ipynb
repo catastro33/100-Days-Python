{
 "cells": [
  {
   "cell_type": "markdown",
   "metadata": {},
   "source": [
    "## **Python String Exercise**"
   ]
  },
  {
   "cell_type": "markdown",
   "metadata": {},
   "source": [
    "7. Write a program to check if two strings are balanced. For example, strings s1 and s2 are balanced if all the characters in the s1 are present in s2. The character’s position doesn’t matter.\n",
    "```\n",
    "Input 1:\n",
    "s1 = \"Yn\"\n",
    "s2 = \"PYnative\"\n",
    "\n",
    "Output 1:\n",
    "True\n",
    "\n",
    "Input 2:\n",
    "s1 = \"Ynf\"\n",
    "s2 = \"PYnative\"\n",
    "\n",
    "Output 2:\n",
    "False\n",
    "```"
   ]
  },
  {
   "cell_type": "code",
   "execution_count": 1,
   "metadata": {},
   "outputs": [
    {
     "data": {
      "text/plain": [
       "True"
      ]
     },
     "execution_count": 1,
     "metadata": {},
     "output_type": "execute_result"
    }
   ],
   "source": [
    "s1 = \"Yn\"\n",
    "s2 = \"PYnative\"\n",
    "\n",
    "'Yn' in 'PYnative'"
   ]
  },
  {
   "cell_type": "markdown",
   "metadata": {},
   "source": [
    "8. Write a program to find all occurrences of “USA” in a given string ignoring the case.\n",
    "```\n",
    "Input:\n",
    "str1 = \"Welcome to USA. usa is awesome, isn't it?\"\n",
    "\n",
    "Output:\n",
    "The USA count is: 2\n",
    "```"
   ]
  },
  {
   "cell_type": "code",
   "execution_count": 14,
   "metadata": {},
   "outputs": [
    {
     "name": "stdout",
     "output_type": "stream",
     "text": [
      "The occurrences of USA is 2\n"
     ]
    }
   ],
   "source": [
    "str1 = \"Welcome to USA. usa is awesome, isn't it?\"\n",
    "count = 0\n",
    "for i in range(len(str1)):\n",
    "    if str1[i:i+3].upper() == 'USA' or str1[i:i+3].lower() == 'usa':\n",
    "        count += 1\n",
    "\n",
    "print('The occurrences of USA is', count)"
   ]
  },
  {
   "cell_type": "markdown",
   "metadata": {},
   "source": [
    "9. Given a string s1, write a program to return the sum and average of the digits that appear in the string, ignoring all other characters.\n",
    "```\n",
    "Input:\n",
    "str1 = \"PYnative29@#8496\"\n",
    "\n",
    "Output:\n",
    "Sum is: 38 Average is  6.333333333333333\n",
    "```"
   ]
  },
  {
   "cell_type": "code",
   "execution_count": 10,
   "metadata": {},
   "outputs": [
    {
     "name": "stdout",
     "output_type": "stream",
     "text": [
      "The number of integers in the string is 6\n",
      "The sum of all the integers is 38\n",
      "The average of all the integers is 6.333333333333333\n"
     ]
    }
   ],
   "source": [
    "str3 = \"PYnative29@#8496\"\n",
    "total_sum = 0\n",
    "count = 0\n",
    "for i in str3:\n",
    "    if i.isdigit():\n",
    "        count += 1\n",
    "        digit = int(i)\n",
    "        total_sum += digit\n",
    "\n",
    "avg = total_sum/count\n",
    "print('The number of integers in the string is', count)\n",
    "print('The sum of all the integers is', total_sum)\n",
    "print('The average of all the integers is', avg)"
   ]
  },
  {
   "cell_type": "markdown",
   "metadata": {},
   "source": [
    "10. Write a program to count occurrences of all characters within a string.\n",
    "```\n",
    "Input:\n",
    "str1 = \"Apple\"\n",
    "\n",
    "Output:\n",
    "{'A': 1, 'p': 2, 'l': 1, 'e': 1}\n",
    "```"
   ]
  },
  {
   "cell_type": "code",
   "execution_count": 29,
   "metadata": {},
   "outputs": [
    {
     "name": "stdout",
     "output_type": "stream",
     "text": [
      "['A', 'p', 'p', 'l', 'e']\n"
     ]
    }
   ],
   "source": [
    "str4 = \"Apple\"\n",
    "new_str4 = []\n",
    "counter = 0\n",
    "for i in str4:\n",
    "    new_str4.append(i)\n",
    "    new_str4.count(str4(i))\n",
    "\n",
    "print(new_str4)"
   ]
  },
  {
   "cell_type": "code",
   "execution_count": 2,
   "metadata": {},
   "outputs": [
    {
     "name": "stdout",
     "output_type": "stream",
     "text": [
      "e:{'a': 1, 'p': 2, 'l': 1, 'e': 1}\n"
     ]
    }
   ],
   "source": [
    "str4 = 'Apple'\n",
    "str4 = str4.lower()\n",
    "char_count = {}\n",
    "for i in str4:\n",
    "    if i in char_count:\n",
    "        char_count[i] += 1\n",
    "    else:\n",
    "        char_count[i] = 1\n",
    "\n",
    "print(f\"{i}:{char_count}\")"
   ]
  },
  {
   "cell_type": "markdown",
   "metadata": {},
   "source": [
    "11. Reverse a given string\n",
    "```\n",
    "Input:\n",
    "str1 = \"PYnative\"\n",
    "\n",
    "Output:\n",
    "evitanYP\n",
    "```"
   ]
  },
  {
   "cell_type": "code",
   "execution_count": 3,
   "metadata": {},
   "outputs": [
    {
     "name": "stdout",
     "output_type": "stream",
     "text": [
      "evitanYP\n"
     ]
    }
   ],
   "source": [
    "str5 = \"PYnative\"\n",
    "new_str5 = str5[::-1]\n",
    "print(new_str5)"
   ]
  },
  {
   "cell_type": "markdown",
   "metadata": {},
   "source": [
    "12. Write a program to find the last position of a substring “Emma” in a given string.\n",
    "```\n",
    "Input:\n",
    "str1 = \"Emma is a data scientist who knows Python. Emma works at google.\"\n",
    "\n",
    "Output:\n",
    "Last occurrence of Emma starts at index 43\n",
    "```"
   ]
  },
  {
   "cell_type": "code",
   "execution_count": null,
   "metadata": {},
   "outputs": [],
   "source": []
  }
 ],
 "metadata": {
  "kernelspec": {
   "display_name": "Python 3",
   "language": "python",
   "name": "python3"
  },
  "language_info": {
   "codemirror_mode": {
    "name": "ipython",
    "version": 3
   },
   "file_extension": ".py",
   "mimetype": "text/x-python",
   "name": "python",
   "nbconvert_exporter": "python",
   "pygments_lexer": "ipython3",
   "version": "3.10.11"
  }
 },
 "nbformat": 4,
 "nbformat_minor": 2
}
