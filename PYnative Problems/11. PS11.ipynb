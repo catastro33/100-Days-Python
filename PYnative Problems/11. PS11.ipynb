{
 "cells": [
  {
   "cell_type": "markdown",
   "metadata": {},
   "source": [
    "## **Python String Exercise**"
   ]
  },
  {
   "cell_type": "markdown",
   "metadata": {},
   "source": [
    "1. Write a program to create a new string made of an input string’s first, middle, and last character.\n",
    "```\n",
    "Input:\n",
    "str1 = \"James\"\n",
    "\n",
    "Output:\n",
    "Jms\n",
    "```"
   ]
  },
  {
   "cell_type": "code",
   "execution_count": 2,
   "metadata": {},
   "outputs": [
    {
     "name": "stdout",
     "output_type": "stream",
     "text": [
      "Jms\n"
     ]
    }
   ],
   "source": [
    "str1 = 'James'\n",
    "str2 = str1[::2]\n",
    "print(str2)"
   ]
  },
  {
   "cell_type": "markdown",
   "metadata": {},
   "source": [
    "2. Write a program to create a new string made of the middle three characters of an input string.\n",
    "```\n",
    "Input:\n",
    "Case 1:\n",
    "str1 = \"JhonDipPeta\"\n",
    "\n",
    "Output:\n",
    "Dip\n",
    "\n",
    "Case 2:\n",
    "str2 = \"JaSonAy\"\n",
    "\n",
    "Output:\n",
    "Son\n",
    "```\n"
   ]
  },
  {
   "cell_type": "code",
   "execution_count": 4,
   "metadata": {},
   "outputs": [
    {
     "name": "stdout",
     "output_type": "stream",
     "text": [
      "Dip\n",
      "Son\n"
     ]
    }
   ],
   "source": [
    "str1 = \"JhonDipPet\"\n",
    "new_str = str1[4:-3]\n",
    "print(new_str)\n",
    "\n",
    "str2 = \"JaSonAy\"\n",
    "new_str2 = str2[2:-2]\n",
    "print(new_str2)"
   ]
  },
  {
   "cell_type": "markdown",
   "metadata": {},
   "source": [
    "3. Given two strings, s1 and s2. Write a program to create a new string s3 by appending s2 in the middle of s1.\n",
    "```\n",
    "Input:\n",
    "s1 = \"Ault\"\n",
    "s2 = \"Kelly\"\n",
    "\n",
    "Output:\n",
    "AuKellylt\n",
    "```"
   ]
  },
  {
   "cell_type": "code",
   "execution_count": 6,
   "metadata": {},
   "outputs": [
    {
     "name": "stdout",
     "output_type": "stream",
     "text": [
      "AuKellylt\n"
     ]
    }
   ],
   "source": [
    "s1 = 'Ault'\n",
    "s2 = 'Kelly'\n",
    "\n",
    "middle_index = len(s1)//2\n",
    "s3 = s1[:middle_index] + s2 + s1[middle_index:]\n",
    "print(s3)"
   ]
  },
  {
   "cell_type": "markdown",
   "metadata": {},
   "source": [
    "4. Given string contains a combination of the lower and upper case letters. Write a program to arrange the characters of a string so that all lowercase letters should come first.\n",
    "```\n",
    "Input:\n",
    "str1 = PyNaTive\n",
    "\n",
    "Output:\n",
    "yaivePNT\n",
    "```"
   ]
  },
  {
   "cell_type": "code",
   "execution_count": 22,
   "metadata": {},
   "outputs": [
    {
     "name": "stdout",
     "output_type": "stream",
     "text": [
      "yaivePNT\n"
     ]
    }
   ],
   "source": [
    "str3 = 'PyNaTive'\n",
    "lower_str = ''\n",
    "for i in str3:\n",
    "    if i.islower():\n",
    "        lower_str += i\n",
    "\n",
    "upper_str = ''\n",
    "for char in str3:\n",
    "    if char.isupper():\n",
    "        upper_str += char\n",
    "\n",
    "print(lower_str+upper_str)"
   ]
  },
  {
   "cell_type": "markdown",
   "metadata": {},
   "source": [
    "5. Count all letters, digits, and special symbols from a given string\n",
    "```\n",
    "Input:\n",
    "str1 = \"P@#yn26at^&i5ve\"\n",
    "\n",
    "Output:\n",
    "Total counts of chars, digits, and symbols \n",
    "\n",
    "Chars = 8 \n",
    "Digits = 3 \n",
    "Symbol = 4\n",
    "```"
   ]
  },
  {
   "cell_type": "code",
   "execution_count": 47,
   "metadata": {},
   "outputs": [
    {
     "name": "stdout",
     "output_type": "stream",
     "text": [
      "Count of alphabet in str1 is 8\n",
      "Count of Digits in str1 is 3\n",
      "Count of Symbols in str1 is 4\n"
     ]
    }
   ],
   "source": [
    "str1 = \"P@#yn26at^&i5ve\"\n",
    "\n",
    "alphabet = 0\n",
    "Digit = 0\n",
    "Symbol = 0\n",
    "for i in str1:\n",
    "    if i.isalpha():\n",
    "        alphabet += 1\n",
    "    elif i.isdigit():\n",
    "        Digit += 1\n",
    "    else:\n",
    "        Symbol += 1\n",
    "        \n",
    "\n",
    "print('Count of alphabet in str1 is', alphabet)\n",
    "print('Count of Digits in str1 is', Digit)\n",
    "print('Count of Symbols in str1 is', Symbol)\n"
   ]
  },
  {
   "cell_type": "markdown",
   "metadata": {},
   "source": [
    "6. Given two strings, s1 and s2. Write a program to create a new string s3 made of the first char of s1, then the last char of s2, Next, the second char of s1 and second last char of s2, and so on. Any leftover chars go at the end of the result.\n",
    "```\n",
    "Input:\n",
    "s1 = \"Abc\"\n",
    "s2 = \"Xyz\"\n",
    "\n",
    "Output:\n",
    "AzbycX\n",
    "```"
   ]
  },
  {
   "cell_type": "code",
   "execution_count": 15,
   "metadata": {},
   "outputs": [
    {
     "name": "stdout",
     "output_type": "stream",
     "text": [
      "[('A', 'z'), ('b', 'y'), ('c', 'X')]\n",
      "['Az', 'by', 'cX']\n",
      "AzbycX\n"
     ]
    }
   ],
   "source": [
    "s1 = \"Abc\"\n",
    "s2 = \"Xyz\"\n",
    "\n",
    "new_str2 = []\n",
    "for i in s1:\n",
    "    new_str2.append(i)\n",
    "\n",
    "new_str3 = []\n",
    "for j in s2:\n",
    "    new_str3.append(j)\n",
    "\n",
    "zip_list = list(zip(new_str2, new_str3[::-1]))\n",
    "print(zip_list)\n",
    "\n",
    "new_zip = [''.join(i) for i in zip_list]\n",
    "print(new_zip)\n",
    "\n",
    "new_zip_list = ''.join(new_zip)\n",
    "print(new_zip_list)"
   ]
  }
 ],
 "metadata": {
  "kernelspec": {
   "display_name": "Python 3",
   "language": "python",
   "name": "python3"
  },
  "language_info": {
   "codemirror_mode": {
    "name": "ipython",
    "version": 3
   },
   "file_extension": ".py",
   "mimetype": "text/x-python",
   "name": "python",
   "nbconvert_exporter": "python",
   "pygments_lexer": "ipython3",
   "version": "3.10.11"
  }
 },
 "nbformat": 4,
 "nbformat_minor": 2
}
