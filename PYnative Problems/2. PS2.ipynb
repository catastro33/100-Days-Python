{
 "cells": [
  {
   "cell_type": "markdown",
   "metadata": {},
   "source": [
    "### **Basic Python Program**"
   ]
  },
  {
   "cell_type": "markdown",
   "metadata": {},
   "source": [
    "**Q6. Display numbers divisible by 5 from a list. Iterate the given list of numbers and print only those numbers which are divisible by 5.**\n",
    "\n",
    "```\n",
    "Input:  \n",
    "[10, 20, 33, 46, 55]\n",
    "\n",
    "Output:\n",
    "Divisible by 5\n",
    "10\n",
    "20\n",
    "55\n",
    "```"
   ]
  },
  {
   "cell_type": "code",
   "execution_count": 52,
   "metadata": {},
   "outputs": [
    {
     "name": "stdout",
     "output_type": "stream",
     "text": [
      "5\n",
      "15\n",
      "25\n"
     ]
    }
   ],
   "source": [
    "div_list = [5, 11, 15, 23, 25]\n",
    "for i in div_list:\n",
    "    if i%5 == 0:\n",
    "        print(i)"
   ]
  },
  {
   "cell_type": "markdown",
   "metadata": {},
   "source": [
    "**Q7. Return the count of a given substring from a string. Write a program to find how many times substring “Emma” appears in the given string.**\n",
    "\n",
    "```\n",
    "Input:\n",
    "str_x = \"Emma is good developer. Emma is a writer\"\n",
    "\n",
    "Output:\n",
    "Emma appeared 2 time\n",
    "```"
   ]
  },
  {
   "cell_type": "code",
   "execution_count": 21,
   "metadata": {},
   "outputs": [
    {
     "name": "stdout",
     "output_type": "stream",
     "text": [
      "Emma appeared 2 times in the string\n"
     ]
    }
   ],
   "source": [
    "str_x = \"Emma is good developer. Emma is a writer\"\n",
    "emma_count = str_x.count('Emma')\n",
    "print(f'Emma appeared {emma_count} times in the string')"
   ]
  },
  {
   "cell_type": "markdown",
   "metadata": {},
   "source": [
    "**Q8. Print the following pattern**\n",
    "```\n",
    "1 \n",
    "2 2 \n",
    "3 3 3 \n",
    "4 4 4 4 \n",
    "5 5 5 5 5\n",
    "```"
   ]
  },
  {
   "cell_type": "code",
   "execution_count": 28,
   "metadata": {},
   "outputs": [
    {
     "name": "stdout",
     "output_type": "stream",
     "text": [
      "1 \n",
      "2 2 \n",
      "3 3 3 \n",
      "4 4 4 4 \n",
      "5 5 5 5 5 \n"
     ]
    }
   ],
   "source": [
    "for i in range(1, 6):\n",
    "    for j in range(i, 0, -1):\n",
    "        print(i, end=' ')\n",
    "    print()"
   ]
  },
  {
   "cell_type": "markdown",
   "metadata": {},
   "source": [
    "**Q9. Check Palindrome Number. Write a program to check if the given number is a palindrome number. A palindrome number is a number that is the same after reverse. For example, 545, is the palindrome numbers.**\n",
    "\n",
    "```\n",
    "Input 1: 121\n",
    "Output: Yes. given number is palindrome number\n",
    "\n",
    "Input 2: 125\n",
    "Output: No. given number is not palindrome number\n",
    "```"
   ]
  },
  {
   "cell_type": "code",
   "execution_count": 31,
   "metadata": {},
   "outputs": [
    {
     "name": "stdout",
     "output_type": "stream",
     "text": [
      "The input 1234321 is a palindrome\n"
     ]
    }
   ],
   "source": [
    "int_pal = input('Enter a number that is above 2 digit\\n')\n",
    "if int_pal[0] == int_pal[-1]:\n",
    "    print(f'The input {int_pal} is a palindrome')\n",
    "else:\n",
    "    print(f'The input {int_pal} is not a palindrome')"
   ]
  },
  {
   "cell_type": "markdown",
   "metadata": {},
   "source": [
    "**Q10. Create a new list from two list using the following condition. Create a new list from two list using the following condition. Given two list of numbers, write a program to create a new list such that the new list should contain odd numbers from the first list and even numbers from the second list.**\n",
    "\n",
    "```\n",
    "Input:\n",
    "list1 = [10, 20, 25, 30, 35]\n",
    "list2 = [40, 45, 60, 75, 90]\n",
    "\n",
    "Output:\n",
    "result list: [25, 35, 40, 60, 90]\n",
    "```"
   ]
  },
  {
   "cell_type": "code",
   "execution_count": 45,
   "metadata": {},
   "outputs": [
    {
     "name": "stdout",
     "output_type": "stream",
     "text": [
      "[25, 35, 40, 60, 90]\n"
     ]
    }
   ],
   "source": [
    "list1 = [10, 20, 25, 30, 35]\n",
    "list2 = [40, 45, 60, 75, 90]\n",
    "\n",
    "o_e_list = []\n",
    "for i in list1:\n",
    "    if i%2 != 0:\n",
    "        o_e_list.append(int(i))\n",
    "\n",
    "for j in list2:\n",
    "    if j%2 == 0:\n",
    "        o_e_list.append(int(j))\n",
    "        \n",
    "print(o_e_list)"
   ]
  }
 ],
 "metadata": {
  "kernelspec": {
   "display_name": "Python 3",
   "language": "python",
   "name": "python3"
  },
  "language_info": {
   "codemirror_mode": {
    "name": "ipython",
    "version": 3
   },
   "file_extension": ".py",
   "mimetype": "text/x-python",
   "name": "python",
   "nbconvert_exporter": "python",
   "pygments_lexer": "ipython3",
   "version": "3.10.11"
  }
 },
 "nbformat": 4,
 "nbformat_minor": 2
}
