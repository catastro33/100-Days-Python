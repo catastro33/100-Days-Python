{
 "cells": [
  {
   "cell_type": "markdown",
   "metadata": {},
   "source": [
    "## **Python List Exercise**"
   ]
  },
  {
   "cell_type": "markdown",
   "metadata": {},
   "source": [
    "**6. Add new item to list after a specified item** Write a program to add item 7000 after 6000 in the following Python List.\n",
    "```\n",
    "Input:\n",
    "list1 = [10, 20, [300, 400, [5000, 6000], 500], 30, 40]\n",
    "\n",
    "Output:\n",
    "[10, 20, [300, 400, [5000, 6000, 7000], 500], 30, 40]\n",
    "```"
   ]
  },
  {
   "cell_type": "code",
   "execution_count": 53,
   "metadata": {},
   "outputs": [
    {
     "name": "stdout",
     "output_type": "stream",
     "text": [
      "1\n",
      "[5000, 6000, 7000]\n",
      "[10, 20, [300, 400, [5000, 6000, 7000], 500], 30, 40]\n"
     ]
    }
   ],
   "source": [
    "list3 = [10, 20, [300, 400, [5000, 6000], 500], 30, 40]\n",
    "inner_list = list3[2][2]\n",
    "inner_index = inner_list.index(6000)\n",
    "print(inner_index)\n",
    "\n",
    "inner_list.insert(inner_index + 1, 7000)\n",
    "print(inner_list)\n",
    "print(list3)"
   ]
  },
  {
   "cell_type": "code",
   "execution_count": 5,
   "metadata": {},
   "outputs": [
    {
     "name": "stdout",
     "output_type": "stream",
     "text": [
      "1\n",
      "[10, 20, [300, 400, [5000, 6000, 7000], 500], 30, 40]\n"
     ]
    }
   ],
   "source": [
    "list3 = [10, 20, [300, 400, [5000, 6000], 500], 30, 40]\n",
    "\n",
    "inner_list = list3[2][2]\n",
    "\n",
    "index_6000 = inner_list.index(6000)\n",
    "\n",
    "inner_list.insert(index_6000 + 1, 7000)\n",
    "print(index_6000)\n",
    "\n",
    "print(list3)"
   ]
  },
  {
   "cell_type": "markdown",
   "metadata": {},
   "source": [
    "**7. Extend nested list by adding the sublist.** You have given a nested list. Write a program to extend it by adding the sublist [\"h\", \"i\", \"j\"] in such a way that it will look like the following list.\n",
    "```\n",
    "Input:\n",
    "list1 = [\"a\", \"b\", [\"c\", [\"d\", \"e\", [\"f\", \"g\"], \"k\"], \"l\"], \"m\", \"n\"]\n",
    "\n",
    "# sub list to add\n",
    "sub_list = [\"h\", \"i\", \"j\"]\n",
    "\n",
    "Output:\n",
    "['a', 'b', ['c', ['d', 'e', ['f', 'g', 'h', 'i', 'j'], 'k'], 'l'], 'm', 'n']\n",
    "```\n"
   ]
  },
  {
   "cell_type": "code",
   "execution_count": 6,
   "metadata": {},
   "outputs": [
    {
     "name": "stdout",
     "output_type": "stream",
     "text": [
      "['a', 'b', ['c', ['d', 'e', ['f', 'g', 'h', 'i', 'j'], 'k'], 'l'], 'm', 'n']\n"
     ]
    }
   ],
   "source": [
    "list4 = [\"a\", \"b\", [\"c\", [\"d\", \"e\", [\"f\", \"g\"], \"k\"], \"l\"], \"m\", \"n\"]\n",
    "sub_list = [\"h\", \"i\", \"j\"]\n",
    "inner_list = list4[2][1][2]\n",
    "list_index = inner_list.index('g')\n",
    "inner_list.extend(sub_list)\n",
    "print(list4)"
   ]
  },
  {
   "cell_type": "markdown",
   "metadata": {},
   "source": [
    "**8. Replace list’s item with new value if found.** You have given a Python list. Write a program to find value 20 in the list, and if it is present, replace it with 200. Only update the first occurrence of an item.\n",
    "```\n",
    "Input:\n",
    "list1 = [5, 10, 15, 20, 25, 50, 20]\n",
    "\n",
    "Output:\n",
    "[5, 10, 15, 200, 25, 50, 20]\n",
    "```"
   ]
  },
  {
   "cell_type": "code",
   "execution_count": 4,
   "metadata": {},
   "outputs": [
    {
     "name": "stdout",
     "output_type": "stream",
     "text": [
      "[5, 10, 15, 200, 25, 50, 20]\n"
     ]
    }
   ],
   "source": [
    "list1 = [5, 10, 15, 20, 25, 50, 20]\n",
    "\n",
    "list_index = list1.index(20)\n",
    "list1[list_index] = 200\n",
    "print(list1)"
   ]
  },
  {
   "cell_type": "markdown",
   "metadata": {},
   "source": [
    "**9. Remove all occurrences of a specific item from a list.** Given a Python list, write a program to remove all occurrences of item 20.\n",
    "```\n",
    "Input:\n",
    "list1 = [5, 20, 15, 20, 25, 50, 20]\n",
    "\n",
    "Ouput:\n",
    "[5, 15, 25, 50]\n",
    "```"
   ]
  },
  {
   "cell_type": "code",
   "execution_count": 7,
   "metadata": {},
   "outputs": [
    {
     "name": "stdout",
     "output_type": "stream",
     "text": [
      "[5, 15, 25, 50]\n"
     ]
    }
   ],
   "source": [
    "list1 = [5, 20, 15, 20, 25, 50, 20]\n",
    "for i in list1:\n",
    "    if i == 20:\n",
    "        list1.remove(20)\n",
    "\n",
    "print(list1)"
   ]
  }
 ],
 "metadata": {
  "kernelspec": {
   "display_name": "Python 3",
   "language": "python",
   "name": "python3"
  },
  "language_info": {
   "codemirror_mode": {
    "name": "ipython",
    "version": 3
   },
   "file_extension": ".py",
   "mimetype": "text/x-python",
   "name": "python",
   "nbconvert_exporter": "python",
   "pygments_lexer": "ipython3",
   "version": "3.10.11"
  }
 },
 "nbformat": 4,
 "nbformat_minor": 2
}
