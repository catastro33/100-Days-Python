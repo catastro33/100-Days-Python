{
 "cells": [
  {
   "cell_type": "markdown",
   "metadata": {},
   "source": [
    "### **Python Input and Output Exercise**"
   ]
  },
  {
   "cell_type": "markdown",
   "metadata": {},
   "source": [
    "**Exercise 1: Accept numbers from a user**. Write a program to accept two numbers from the user and calculate multiplication"
   ]
  },
  {
   "cell_type": "code",
   "execution_count": 2,
   "metadata": {},
   "outputs": [
    {
     "name": "stdout",
     "output_type": "stream",
     "text": [
      "The product of 23 and 56 is: 1288\n"
     ]
    }
   ],
   "source": [
    "num1 = int(input('Enter a number\\n'))\n",
    "num2 = int(input('Enter a number\\n'))\n",
    "\n",
    "result = num1 * num2\n",
    "print(f'The product of {num1} and {num2} is:', result)"
   ]
  },
  {
   "cell_type": "markdown",
   "metadata": {},
   "source": [
    "**Exercise 2: Display three string “Name”, “Is”, “James” as ```“Name**Is**James”```**. Use the print() function to format the given words in the mentioned format. Display the ** separator between each string.\n",
    "\n",
    "```\n",
    "Expected Output:\n",
    "print('Name', 'Is', 'James') will display Name**Is**James\n",
    "```"
   ]
  },
  {
   "cell_type": "code",
   "execution_count": 9,
   "metadata": {},
   "outputs": [
    {
     "name": "stdout",
     "output_type": "stream",
     "text": [
      "Name**Is**James\n"
     ]
    }
   ],
   "source": [
    "print('Name', 'Is', 'James', sep='**')"
   ]
  },
  {
   "cell_type": "markdown",
   "metadata": {},
   "source": [
    "**Exercise 3: Convert Decimal number to octal using print() output formatting.** \n",
    "\n",
    "```\n",
    "Input:\n",
    "Num = 8\n",
    "```\n",
    "\n",
    "```\n",
    "Expected Output:\n",
    "The octal number of decimal number 8 is 10\n",
    "```"
   ]
  },
  {
   "cell_type": "code",
   "execution_count": 5,
   "metadata": {},
   "outputs": [
    {
     "name": "stdout",
     "output_type": "stream",
     "text": [
      "Octal representation: 0o10\n"
     ]
    }
   ],
   "source": [
    "decimal_number = 8  # Example decimal number\n",
    "octal_number = oct(decimal_number)\n",
    "print(\"Octal representation:\", octal_number)"
   ]
  },
  {
   "cell_type": "markdown",
   "metadata": {},
   "source": [
    "**Exercise 4: Display float number with 2 decimal places using print()** \n",
    "\n",
    "```\n",
    "Input:\n",
    "num = 458.541315\n",
    "```\n",
    "\n",
    "```\n",
    "Output:\n",
    "458.54\n",
    "```"
   ]
  },
  {
   "cell_type": "code",
   "execution_count": 6,
   "metadata": {},
   "outputs": [
    {
     "name": "stdout",
     "output_type": "stream",
     "text": [
      "Formatted number is: 1244.46\n"
     ]
    }
   ],
   "source": [
    "# Method 1\n",
    "\n",
    "float_num = 1244.45646\n",
    "formatted_num = '{:.2f}'.format(float_num)\n",
    "print('Formatted number is:', formatted_num)"
   ]
  },
  {
   "cell_type": "code",
   "execution_count": 8,
   "metadata": {},
   "outputs": [
    {
     "name": "stdout",
     "output_type": "stream",
     "text": [
      "Formatted number is: 1244.456\n"
     ]
    }
   ],
   "source": [
    "# Method 2\n",
    "\n",
    "float_num = 1244.45646\n",
    "formatted_num = round(float_num, 3)\n",
    "print('Formatted number is:', formatted_num)"
   ]
  },
  {
   "cell_type": "markdown",
   "metadata": {},
   "source": [
    "**Exercise 5: Accept a list of 5 float numbers as an input from the user**. \n",
    "\n",
    "```\n",
    "Expected Output:\n",
    "[78.6, 78.6, 85.3, 1.2, 3.5]\n",
    "```"
   ]
  },
  {
   "cell_type": "code",
   "execution_count": 30,
   "metadata": {},
   "outputs": [
    {
     "name": "stdout",
     "output_type": "stream",
     "text": [
      "[12.45, 23.78, 34.9, 87.21, 23.0]\n"
     ]
    }
   ],
   "source": [
    "input_num = 5\n",
    "inputs = []\n",
    "\n",
    "for i in range(input_num):\n",
    "    user_inputs = float(input('Enter a float number {} of {}'.format(i+1, inputs)))\n",
    "    inputs.append(user_inputs)\n",
    "\n",
    "print(inputs)"
   ]
  },
  {
   "cell_type": "markdown",
   "metadata": {},
   "source": [
    "**Exercise 6: Accept any three string from one input() call.** Write a program to take three names as input from a user in the single input() function call.\n",
    "\n",
    "Expected Output:\n",
    "```\n",
    "Name1: Emma\n",
    "Name2: Jessa\n",
    "Name3: Kelly\n",
    "```"
   ]
  },
  {
   "cell_type": "code",
   "execution_count": 38,
   "metadata": {},
   "outputs": [
    {
     "name": "stdout",
     "output_type": "stream",
     "text": [
      "Name1: Robert\n",
      "Name2: James\n",
      "Name3: Peter\n"
     ]
    }
   ],
   "source": [
    "inp_name = input('Enter 3 names\\n')\n",
    "Name = inp_name.split()\n",
    "\n",
    "if len(Name) != 3:\n",
    "    print('Please enter exact three values\\n')\n",
    "else:\n",
    "    for i in range(0, len(Name)):\n",
    "        print(f'Name {i+1}:', Name[i])"
   ]
  },
  {
   "cell_type": "markdown",
   "metadata": {},
   "source": [
    "**Exercise 7: Format variables using a .format() method.** Write a program to use .format() method to format the following three variables as per the expected output. \n",
    "\n",
    "```\n",
    "Given:\n",
    "totalMoney = 1000\n",
    "quantity = 3\n",
    "price = 450\n",
    "```\n",
    "```\n",
    "Expected Output:\n",
    "I have 1000 dollars so I can buy 3 football for 450.00 dollars.\n",
    "```"
   ]
  },
  {
   "cell_type": "code",
   "execution_count": 40,
   "metadata": {},
   "outputs": [
    {
     "name": "stdout",
     "output_type": "stream",
     "text": [
      "The recipe calls for 2 cups of flour, 3 eggs, and a pinch (about 1 teaspoon) of salt.\n"
     ]
    }
   ],
   "source": [
    "Cups = 2\n",
    "Eggs = 3\n",
    "Salt = 1\n",
    "\n",
    "Output_string = 'The recipe calls for {} cups of flour, {} eggs, and a pinch (about {} teaspoon) of salt.'.format(Cups, Eggs, Salt)\n",
    "\n",
    "print(Output_string)"
   ]
  }
 ],
 "metadata": {
  "kernelspec": {
   "display_name": "Python 3",
   "language": "python",
   "name": "python3"
  },
  "language_info": {
   "codemirror_mode": {
    "name": "ipython",
    "version": 3
   },
   "file_extension": ".py",
   "mimetype": "text/x-python",
   "name": "python",
   "nbconvert_exporter": "python",
   "pygments_lexer": "ipython3",
   "version": "3.10.11"
  }
 },
 "nbformat": 4,
 "nbformat_minor": 2
}
