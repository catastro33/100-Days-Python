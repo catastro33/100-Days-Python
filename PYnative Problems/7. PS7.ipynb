{
 "cells": [
  {
   "cell_type": "markdown",
   "metadata": {},
   "source": [
    "### **Python if else, for loop, and range() Exercises**"
   ]
  },
  {
   "cell_type": "markdown",
   "metadata": {},
   "source": [
    "**Exercise 13: Find the factorial of a given number.** Write a program to use the loop to find the factorial of a given number."
   ]
  },
  {
   "cell_type": "code",
   "execution_count": 2,
   "metadata": {},
   "outputs": [
    {
     "name": "stdout",
     "output_type": "stream",
     "text": [
      "The factorial of 5 is: 120\n"
     ]
    }
   ],
   "source": [
    "number = int(input('Enter the number you want to find the factorial\\n'))\n",
    "factorial = 1\n",
    "for i in range(1, number + 1):\n",
    "    factorial *= i\n",
    "\n",
    "print(f'The factorial of {number} is:', factorial)"
   ]
  },
  {
   "cell_type": "markdown",
   "metadata": {},
   "source": [
    "**Exercise 14: Reverse a given integer number**\n",
    "\n",
    "```\n",
    "Input:\n",
    "76542\n",
    "\n",
    "Output:\n",
    "24567\n",
    "```"
   ]
  },
  {
   "cell_type": "code",
   "execution_count": 14,
   "metadata": {},
   "outputs": [
    {
     "name": "stdout",
     "output_type": "stream",
     "text": [
      "24567\n",
      "<class 'int'>\n"
     ]
    }
   ],
   "source": [
    "org_num = 76542\n",
    "str_num = str(org_num)\n",
    "rev_num = str_num[::-1]\n",
    "org_num2 = int(rev_num)\n",
    "print(org_num2)\n",
    "print(type(org_num2))\n"
   ]
  },
  {
   "cell_type": "markdown",
   "metadata": {},
   "source": [
    "**Exercise 15: Use a loop to display elements from a given list present at odd index positions** \n",
    "```\n",
    "Input:\n",
    "my_list = [10, 20, 30, 40, 50, 60, 70, 80, 90, 100]\n",
    "\n",
    "Expected output:\n",
    "20 40 60 80 100\n",
    "```"
   ]
  },
  {
   "cell_type": "code",
   "execution_count": 17,
   "metadata": {},
   "outputs": [
    {
     "name": "stdout",
     "output_type": "stream",
     "text": [
      "20 40 60 80 100 "
     ]
    }
   ],
   "source": [
    "my_list = [10, 20, 30, 40, 50, 60, 70, 80, 90, 100]\n",
    "\n",
    "for i in range(1, len(my_list), 2):\n",
    "    print(my_list[i], end=' ')"
   ]
  },
  {
   "cell_type": "markdown",
   "metadata": {},
   "source": [
    "**Exercise 16: Calculate the cube of all numbers from 1 to a given number.**"
   ]
  },
  {
   "cell_type": "code",
   "execution_count": 21,
   "metadata": {},
   "outputs": [
    {
     "name": "stdout",
     "output_type": "stream",
     "text": [
      "The Cube of 1 is: 1\n",
      "The Cube of 2 is: 8\n",
      "The Cube of 3 is: 27\n",
      "The Cube of 4 is: 64\n",
      "The Cube of 5 is: 125\n"
     ]
    }
   ],
   "source": [
    "num_range = int(input('Enter the number for the upper range\\n'))\n",
    "for i in range(1, num_range+1):\n",
    "    print(f'The Cube of {i} is:', i*i*i)"
   ]
  },
  {
   "cell_type": "markdown",
   "metadata": {},
   "source": [
    "**Exercise 17: Find the sum of the series upto n terms.** Write a program to calculate the sum of series up to n term. For example, if n = 5 the series will become 2 + 22 + 222 + 2222 + 22222 = 24690"
   ]
  },
  {
   "cell_type": "code",
   "execution_count": 27,
   "metadata": {},
   "outputs": [
    {
     "name": "stdout",
     "output_type": "stream",
     "text": [
      "2\n",
      "3\n",
      "3\n",
      "4\n",
      "4\n",
      "4\n"
     ]
    }
   ],
   "source": [
    "n_term = int(input('Enter a number for the nth term\\n'))\n",
    "#term = int(input('Enter the term\\n'))\n",
    "for i in range(1, n_term+1):\n",
    "    "
   ]
  },
  {
   "cell_type": "markdown",
   "metadata": {},
   "source": [
    "**Exercise 18: Print the following pattern.** Write a program to print the following start pattern using the for loop.\n",
    "```bash\n",
    "* \n",
    "* * \n",
    "* * * \n",
    "* * * * \n",
    "* * * * * \n",
    "* * * * \n",
    "* * * \n",
    "* * \n",
    "*\n",
    "```\n"
   ]
  },
  {
   "cell_type": "code",
   "execution_count": 24,
   "metadata": {},
   "outputs": [
    {
     "name": "stdout",
     "output_type": "stream",
     "text": [
      "\n",
      "* \n",
      "* * \n",
      "* * * \n",
      "* * * * \n",
      "* * * * * \n",
      "* * * * \n",
      "* * * \n",
      "* * \n",
      "* \n",
      "\n"
     ]
    }
   ],
   "source": [
    "rows = 6\n",
    "for i in range(0, rows):\n",
    "    for j in range(0, i):\n",
    "        print(\"*\", end=' ')\n",
    "    print()\n",
    "\n",
    "row = 5\n",
    "for k in range(row, 0, -1):\n",
    "    for l in range(1, k):\n",
    "        print(\"*\", end=' ')\n",
    "    print()"
   ]
  }
 ],
 "metadata": {
  "kernelspec": {
   "display_name": "Python 3",
   "language": "python",
   "name": "python3"
  },
  "language_info": {
   "codemirror_mode": {
    "name": "ipython",
    "version": 3
   },
   "file_extension": ".py",
   "mimetype": "text/x-python",
   "name": "python",
   "nbconvert_exporter": "python",
   "pygments_lexer": "ipython3",
   "version": "3.10.11"
  }
 },
 "nbformat": 4,
 "nbformat_minor": 2
}
