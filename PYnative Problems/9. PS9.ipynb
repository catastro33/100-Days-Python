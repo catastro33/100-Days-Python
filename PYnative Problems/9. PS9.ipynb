{
 "cells": [
  {
   "cell_type": "markdown",
   "metadata": {},
   "source": [
    "## **Python List Exercise**"
   ]
  },
  {
   "cell_type": "markdown",
   "metadata": {},
   "source": [
    "**1. Reverse a list in Python.**\n",
    "```\n",
    "Input:\n",
    "list1 = [100, 200, 300, 400, 500]\n",
    "\n",
    "Output:\n",
    "[500, 400, 300, 200, 100]\n",
    "```\n"
   ]
  },
  {
   "cell_type": "code",
   "execution_count": 1,
   "metadata": {},
   "outputs": [
    {
     "name": "stdout",
     "output_type": "stream",
     "text": [
      "[500, 400, 300, 200, 100]\n"
     ]
    }
   ],
   "source": [
    "list1 = [100, 200, 300, 400, 500]\n",
    "\n",
    "reverse_list = list1[::-1]\n",
    "print(reverse_list)"
   ]
  },
  {
   "cell_type": "markdown",
   "metadata": {},
   "source": [
    "**2. Write a program to add two lists index-wise. Create a new list that contains the 0th index item from both the list, then the 1st index item, and so on till the last element. any leftover items will get added at the end of the new list.**\n",
    "```\n",
    "Input:\n",
    "list1 = [\"M\", \"na\", \"i\", \"Ke\"]\n",
    "list2 = [\"y\", \"me\", \"s\", \"lly\"]\n",
    "\n",
    "Output:\n",
    "['My', 'name', 'is', 'Kelly']\n",
    "```"
   ]
  },
  {
   "cell_type": "code",
   "execution_count": 2,
   "metadata": {},
   "outputs": [
    {
     "name": "stdout",
     "output_type": "stream",
     "text": [
      "[('M', 'y'), ('na', 'me'), ('i', 's'), ('Ke', 'lly')]\n",
      "['My', 'name', 'is', 'Kelly']\n"
     ]
    }
   ],
   "source": [
    "list1 = [\"M\", \"na\", \"i\", \"Ke\"]\n",
    "list2 = [\"y\", \"me\", \"s\", \"lly\"]\n",
    "\n",
    "zip_list = list(zip(list1, list2))\n",
    "print(zip_list)\n",
    "\n",
    "new_list = [''.join(i) for i in zip_list]\n",
    "print(new_list)\n"
   ]
  },
  {
   "cell_type": "code",
   "execution_count": 3,
   "metadata": {},
   "outputs": [
    {
     "name": "stdout",
     "output_type": "stream",
     "text": [
      "[('M', 'y'), ('na', 'me'), ('i', 's'), ('Ke', 'lly')]\n",
      "['My', 'name', 'is', 'Kelly']\n"
     ]
    }
   ],
   "source": [
    "list1 = [\"M\", \"na\", \"i\", \"Ke\"]\n",
    "list2 = [\"y\", \"me\", \"s\", \"lly\"]\n",
    "\n",
    "zip_list = list(zip(list1, list2))\n",
    "print(zip_list)\n",
    "\n",
    "new_list1 = []\n",
    "for i in zip_list:\n",
    "    new_string = ''.join(i)\n",
    "    new_list1.append(new_string)\n",
    "\n",
    "print(new_list1)"
   ]
  },
  {
   "cell_type": "markdown",
   "metadata": {},
   "source": [
    "**3. Given a list of numbers. write a program to turn every item of a list into its square.**\n",
    "```\n",
    "Input:\n",
    "numbers = [1, 2, 3, 4, 5, 6, 7]\n",
    "\n",
    "Output:\n",
    "[1, 4, 9, 16, 25, 36, 49]\n",
    "```"
   ]
  },
  {
   "cell_type": "code",
   "execution_count": 13,
   "metadata": {},
   "outputs": [
    {
     "name": "stdout",
     "output_type": "stream",
     "text": [
      "[1, 4, 9, 16, 25, 36, 49]\n"
     ]
    }
   ],
   "source": [
    "numbers = [1, 2, 3, 4, 5, 6, 7]\n",
    "\n",
    "sq_numbers = []\n",
    "for i in numbers:\n",
    "    sq_numbers.append(i*i)\n",
    "\n",
    "print(sq_numbers)"
   ]
  },
  {
   "cell_type": "markdown",
   "metadata": {},
   "source": [
    "**4. Given a two Python list. Write a program to iterate both lists simultaneously and display items from list1 in original order and items from list2 in reverse order.**\n",
    "```\n",
    "Input:\n",
    "list1 = [10, 20, 30, 40]\n",
    "list2 = [100, 200, 300, 400]\n",
    "\n",
    "Output:\n",
    "10 400\n",
    "20 300\n",
    "30 200\n",
    "40 100\n",
    "```"
   ]
  },
  {
   "cell_type": "code",
   "execution_count": 27,
   "metadata": {},
   "outputs": [
    {
     "name": "stdout",
     "output_type": "stream",
     "text": [
      "10 400\n",
      "20 300\n",
      "30 200\n",
      "40 100\n"
     ]
    }
   ],
   "source": [
    "list1 = [10, 20, 30, 40]\n",
    "list2 = [100, 200, 300, 400]\n",
    "\n",
    "for i, j in zip(list1, list2[::-1]):\n",
    "    print(i, j)"
   ]
  },
  {
   "cell_type": "markdown",
   "metadata": {},
   "source": [
    "**5. Remove empty strings from the list of strings.**\n",
    "```\n",
    "Input:\n",
    "list1 = [\"Mike\", \"\", \"Emma\", \"Kelly\", \"\", \"Brad\"]\n",
    "\n",
    "Ouput:\n",
    "[\"Mike\", \"Emma\", \"Kelly\", \"Brad\"]\n",
    "```"
   ]
  },
  {
   "cell_type": "code",
   "execution_count": 34,
   "metadata": {},
   "outputs": [
    {
     "name": "stdout",
     "output_type": "stream",
     "text": [
      "['Mike', 'Emma', 'Kelly', 'Brad']\n"
     ]
    }
   ],
   "source": [
    "list2 = [\"Mike\", \"\", \"Emma\", \"Kelly\", \"\", \"Brad\"]\n",
    "\n",
    "filtered_list = [i for i in list2 if i]\n",
    "print(filtered_list)"
   ]
  },
  {
   "cell_type": "markdown",
   "metadata": {},
   "source": [
    "**6. Add new item to list after a specified item** Write a program to add item 7000 after 6000 in the following Python List.\n",
    "```\n",
    "Input:\n",
    "list1 = [10, 20, [300, 400, [5000, 6000], 500], 30, 40]\n",
    "\n",
    "Output:\n",
    "[10, 20, [300, 400, [5000, 6000, 7000], 500], 30, 40]\n",
    "```"
   ]
  },
  {
   "cell_type": "code",
   "execution_count": 53,
   "metadata": {},
   "outputs": [
    {
     "name": "stdout",
     "output_type": "stream",
     "text": [
      "1\n",
      "[5000, 6000, 7000]\n",
      "[10, 20, [300, 400, [5000, 6000, 7000], 500], 30, 40]\n"
     ]
    }
   ],
   "source": [
    "list3 = [10, 20, [300, 400, [5000, 6000], 500], 30, 40]\n",
    "inner_list = list3[2][2]\n",
    "inner_index = inner_list.index(6000)\n",
    "print(inner_index)\n",
    "\n",
    "inner_list.insert(inner_index + 1, 7000)\n",
    "print(inner_list)\n",
    "print(list3)"
   ]
  },
  {
   "cell_type": "code",
   "execution_count": 5,
   "metadata": {},
   "outputs": [
    {
     "name": "stdout",
     "output_type": "stream",
     "text": [
      "1\n",
      "[10, 20, [300, 400, [5000, 6000, 7000], 500], 30, 40]\n"
     ]
    }
   ],
   "source": [
    "list3 = [10, 20, [300, 400, [5000, 6000], 500], 30, 40]\n",
    "\n",
    "inner_list = list3[2][2]\n",
    "\n",
    "index_6000 = inner_list.index(6000)\n",
    "\n",
    "inner_list.insert(index_6000 + 1, 7000)\n",
    "print(index_6000)\n",
    "\n",
    "print(list3)"
   ]
  },
  {
   "cell_type": "markdown",
   "metadata": {},
   "source": [
    "**7. Extend nested list by adding the sublist.** You have given a nested list. Write a program to extend it by adding the sublist [\"h\", \"i\", \"j\"] in such a way that it will look like the following list.\n",
    "```\n",
    "Input:\n",
    "list1 = [\"a\", \"b\", [\"c\", [\"d\", \"e\", [\"f\", \"g\"], \"k\"], \"l\"], \"m\", \"n\"]\n",
    "\n",
    "# sub list to add\n",
    "sub_list = [\"h\", \"i\", \"j\"]\n",
    "\n",
    "Output:\n",
    "['a', 'b', ['c', ['d', 'e', ['f', 'g', 'h', 'i', 'j'], 'k'], 'l'], 'm', 'n']\n",
    "```\n"
   ]
  },
  {
   "cell_type": "code",
   "execution_count": null,
   "metadata": {},
   "outputs": [],
   "source": []
  },
  {
   "cell_type": "markdown",
   "metadata": {},
   "source": [
    "**8. Replace list’s item with new value if found.** You have given a Python list. Write a program to find value 20 in the list, and if it is present, replace it with 200. Only update the first occurrence of an item.\n",
    "```\n",
    "Input:\n",
    "list1 = [5, 10, 15, 20, 25, 50, 20]\n",
    "\n",
    "Output:\n",
    "[5, 10, 15, 200, 25, 50, 20]\n",
    "```"
   ]
  },
  {
   "cell_type": "code",
   "execution_count": 4,
   "metadata": {},
   "outputs": [
    {
     "name": "stdout",
     "output_type": "stream",
     "text": [
      "[5, 10, 15, 200, 25, 50, 20]\n"
     ]
    }
   ],
   "source": [
    "list1 = [5, 10, 15, 20, 25, 50, 20]\n",
    "\n",
    "list_index = list1.index(20)\n",
    "list1[list_index] = 200\n",
    "print(list1)"
   ]
  },
  {
   "cell_type": "markdown",
   "metadata": {},
   "source": [
    "**9. Remove all occurrences of a specific item from a list.** Given a Python list, write a program to remove all occurrences of item 20.\n",
    "```\n",
    "Input:\n",
    "list1 = [5, 20, 15, 20, 25, 50, 20]\n",
    "\n",
    "Ouput:\n",
    "[5, 15, 25, 50]\n",
    "```"
   ]
  },
  {
   "cell_type": "code",
   "execution_count": 7,
   "metadata": {},
   "outputs": [
    {
     "name": "stdout",
     "output_type": "stream",
     "text": [
      "[5, 15, 25, 50]\n"
     ]
    }
   ],
   "source": [
    "list1 = [5, 20, 15, 20, 25, 50, 20]\n",
    "for i in list1:\n",
    "    if i == 20:\n",
    "        list1.remove(20)\n",
    "\n",
    "print(list1)"
   ]
  },
  {
   "cell_type": "code",
   "execution_count": null,
   "metadata": {},
   "outputs": [],
   "source": []
  }
 ],
 "metadata": {
  "kernelspec": {
   "display_name": "Python 3",
   "language": "python",
   "name": "python3"
  },
  "language_info": {
   "codemirror_mode": {
    "name": "ipython",
    "version": 3
   },
   "file_extension": ".py",
   "mimetype": "text/x-python",
   "name": "python",
   "nbconvert_exporter": "python",
   "pygments_lexer": "ipython3",
   "version": "3.10.11"
  }
 },
 "nbformat": 4,
 "nbformat_minor": 2
}
