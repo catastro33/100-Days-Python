{
 "cells": [
  {
   "cell_type": "markdown",
   "metadata": {},
   "source": [
    "### **Basic Python Program**"
   ]
  },
  {
   "cell_type": "markdown",
   "metadata": {},
   "source": [
    "**Q11. Write a Program to extract each digit from an integer in the reverse order. For example, If the given int is 7536, the output shall be “6 3 5 7“, with a space separating the digits.**"
   ]
  },
  {
   "cell_type": "code",
   "execution_count": null,
   "metadata": {},
   "outputs": [],
   "source": []
  },
  {
   "cell_type": "markdown",
   "metadata": {},
   "source": [
    "**Q12. Calculate income tax for the given income by adhering to the rules below.**\n",
    "\n",
    "**Taxable Income** ---------------------- **Rate (in%)**\n",
    "- First $10,000 --------------------- 0\n",
    "- Next $10,000 ---------------------- 10\n",
    "- Remaining ------------------------- 20\n",
    "\n",
    "For example, suppose the taxable income is 45000, and the income tax payable is\n",
    "10000*0% + 10000*10%  + 25000*20% = $6000."
   ]
  },
  {
   "cell_type": "code",
   "execution_count": null,
   "metadata": {},
   "outputs": [],
   "source": []
  },
  {
   "cell_type": "markdown",
   "metadata": {},
   "source": [
    "**Q13. Print multiplication table from 1 to 10**\n",
    "```bash\n",
    "Output:\n",
    "1  2 3 4 5 6 7 8 9 10\t\n",
    "2  4 6 8 10 12 14 16 18 20\t\t\n",
    "3  6 9 12 15 18 21 24 27 30\n",
    "```"
   ]
  },
  {
   "cell_type": "code",
   "execution_count": null,
   "metadata": {},
   "outputs": [],
   "source": []
  },
  {
   "cell_type": "markdown",
   "metadata": {},
   "source": [
    "**Q14. Print a downward Half-Pyramid Pattern of Star.**\n",
    "```bash\n",
    "* * * * *  \n",
    "* * * *  \n",
    "* * *  \n",
    "* *  \n",
    "*\n",
    "```"
   ]
  },
  {
   "cell_type": "code",
   "execution_count": null,
   "metadata": {},
   "outputs": [],
   "source": []
  },
  {
   "cell_type": "markdown",
   "metadata": {},
   "source": [
    "**Q 15. Write a function called exponent(base, exp) that returns an int value of base raises to the power of exp.**\n",
    "```bash\n",
    "base = 5\n",
    "exponent = 4\n",
    "\n",
    "5 raises to the power of 4 is: 625 \n",
    "i.e. (5 * 5 * 5 * 5 = 625)\n",
    "```"
   ]
  },
  {
   "cell_type": "code",
   "execution_count": null,
   "metadata": {},
   "outputs": [],
   "source": []
  }
 ],
 "metadata": {
  "kernelspec": {
   "display_name": "Python 3",
   "language": "python",
   "name": "python3"
  },
  "language_info": {
   "codemirror_mode": {
    "name": "ipython",
    "version": 3
   },
   "file_extension": ".py",
   "mimetype": "text/x-python",
   "name": "python",
   "nbconvert_exporter": "python",
   "pygments_lexer": "ipython3",
   "version": "3.10.11"
  }
 },
 "nbformat": 4,
 "nbformat_minor": 2
}
